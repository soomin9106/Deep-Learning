{
  "nbformat": 4,
  "nbformat_minor": 0,
  "metadata": {
    "colab": {
      "name": "Pytorch_LSTM.ipynb",
      "provenance": [],
      "collapsed_sections": []
    },
    "kernelspec": {
      "name": "python3",
      "display_name": "Python 3"
    },
    "language_info": {
      "name": "python"
    },
    "accelerator": "GPU"
  },
  "cells": [
    {
      "cell_type": "markdown",
      "source": [
        "코드 참조 사이트 : https://data-science-hi.tistory.com/190\n",
        "\n",
        "LSTM : https://pytorch.org/docs/master/generated/torch.nn.LSTM.html?highlight=lstm#torch.nn.LSTM"
      ],
      "metadata": {
        "id": "X1xnmMJoIiuS"
      }
    },
    {
      "cell_type": "code",
      "execution_count": 1,
      "metadata": {
        "id": "-RPenvjLGx-b"
      },
      "outputs": [],
      "source": [
        "#데이터 경로 : /content/drive/MyDrive/kospi.csv"
      ]
    },
    {
      "cell_type": "code",
      "source": [
        "#module import\n",
        "import numpy as np\n",
        "import pandas as pd\n",
        "from sklearn.preprocessing import MinMaxScaler\n",
        "\n",
        "import torch\n",
        "import torch.nn as nn\n",
        "import torch.optim as optim\n",
        "\n",
        "import matplotlib.pyplot as plt"
      ],
      "metadata": {
        "id": "u-K83ntLHOSt"
      },
      "execution_count": 2,
      "outputs": []
    },
    {
      "cell_type": "code",
      "source": [
        "#dataset 불러오기 \n",
        "df = pd.read_csv('/content/drive/MyDrive/kospi.csv')\n",
        "df.head(3)"
      ],
      "metadata": {
        "colab": {
          "base_uri": "https://localhost:8080/",
          "height": 143
        },
        "id": "wqsQxk9lHVDO",
        "outputId": "45a59057-f7ce-4a56-f342-d4f2cd15f095"
      },
      "execution_count": 4,
      "outputs": [
        {
          "output_type": "execute_result",
          "data": {
            "text/plain": [
              "         Date         Open         High          Low        Close  \\\n",
              "0  2019-01-30  2183.489990  2206.199951  2177.879883  2206.199951   \n",
              "1  2019-01-31  2222.879883  2222.879883  2201.219971  2204.850098   \n",
              "2  2019-02-01  2211.929932  2218.780029  2201.409912  2203.459961   \n",
              "\n",
              "     Adj Close  Volume  \n",
              "0  2206.199951  480400  \n",
              "1  2204.850098  545200  \n",
              "2  2203.459961  479400  "
            ],
            "text/html": [
              "\n",
              "  <div id=\"df-ec0fa350-9bbd-4757-904e-47b65a32f2d3\">\n",
              "    <div class=\"colab-df-container\">\n",
              "      <div>\n",
              "<style scoped>\n",
              "    .dataframe tbody tr th:only-of-type {\n",
              "        vertical-align: middle;\n",
              "    }\n",
              "\n",
              "    .dataframe tbody tr th {\n",
              "        vertical-align: top;\n",
              "    }\n",
              "\n",
              "    .dataframe thead th {\n",
              "        text-align: right;\n",
              "    }\n",
              "</style>\n",
              "<table border=\"1\" class=\"dataframe\">\n",
              "  <thead>\n",
              "    <tr style=\"text-align: right;\">\n",
              "      <th></th>\n",
              "      <th>Date</th>\n",
              "      <th>Open</th>\n",
              "      <th>High</th>\n",
              "      <th>Low</th>\n",
              "      <th>Close</th>\n",
              "      <th>Adj Close</th>\n",
              "      <th>Volume</th>\n",
              "    </tr>\n",
              "  </thead>\n",
              "  <tbody>\n",
              "    <tr>\n",
              "      <th>0</th>\n",
              "      <td>2019-01-30</td>\n",
              "      <td>2183.489990</td>\n",
              "      <td>2206.199951</td>\n",
              "      <td>2177.879883</td>\n",
              "      <td>2206.199951</td>\n",
              "      <td>2206.199951</td>\n",
              "      <td>480400</td>\n",
              "    </tr>\n",
              "    <tr>\n",
              "      <th>1</th>\n",
              "      <td>2019-01-31</td>\n",
              "      <td>2222.879883</td>\n",
              "      <td>2222.879883</td>\n",
              "      <td>2201.219971</td>\n",
              "      <td>2204.850098</td>\n",
              "      <td>2204.850098</td>\n",
              "      <td>545200</td>\n",
              "    </tr>\n",
              "    <tr>\n",
              "      <th>2</th>\n",
              "      <td>2019-02-01</td>\n",
              "      <td>2211.929932</td>\n",
              "      <td>2218.780029</td>\n",
              "      <td>2201.409912</td>\n",
              "      <td>2203.459961</td>\n",
              "      <td>2203.459961</td>\n",
              "      <td>479400</td>\n",
              "    </tr>\n",
              "  </tbody>\n",
              "</table>\n",
              "</div>\n",
              "      <button class=\"colab-df-convert\" onclick=\"convertToInteractive('df-ec0fa350-9bbd-4757-904e-47b65a32f2d3')\"\n",
              "              title=\"Convert this dataframe to an interactive table.\"\n",
              "              style=\"display:none;\">\n",
              "        \n",
              "  <svg xmlns=\"http://www.w3.org/2000/svg\" height=\"24px\"viewBox=\"0 0 24 24\"\n",
              "       width=\"24px\">\n",
              "    <path d=\"M0 0h24v24H0V0z\" fill=\"none\"/>\n",
              "    <path d=\"M18.56 5.44l.94 2.06.94-2.06 2.06-.94-2.06-.94-.94-2.06-.94 2.06-2.06.94zm-11 1L8.5 8.5l.94-2.06 2.06-.94-2.06-.94L8.5 2.5l-.94 2.06-2.06.94zm10 10l.94 2.06.94-2.06 2.06-.94-2.06-.94-.94-2.06-.94 2.06-2.06.94z\"/><path d=\"M17.41 7.96l-1.37-1.37c-.4-.4-.92-.59-1.43-.59-.52 0-1.04.2-1.43.59L10.3 9.45l-7.72 7.72c-.78.78-.78 2.05 0 2.83L4 21.41c.39.39.9.59 1.41.59.51 0 1.02-.2 1.41-.59l7.78-7.78 2.81-2.81c.8-.78.8-2.07 0-2.86zM5.41 20L4 18.59l7.72-7.72 1.47 1.35L5.41 20z\"/>\n",
              "  </svg>\n",
              "      </button>\n",
              "      \n",
              "  <style>\n",
              "    .colab-df-container {\n",
              "      display:flex;\n",
              "      flex-wrap:wrap;\n",
              "      gap: 12px;\n",
              "    }\n",
              "\n",
              "    .colab-df-convert {\n",
              "      background-color: #E8F0FE;\n",
              "      border: none;\n",
              "      border-radius: 50%;\n",
              "      cursor: pointer;\n",
              "      display: none;\n",
              "      fill: #1967D2;\n",
              "      height: 32px;\n",
              "      padding: 0 0 0 0;\n",
              "      width: 32px;\n",
              "    }\n",
              "\n",
              "    .colab-df-convert:hover {\n",
              "      background-color: #E2EBFA;\n",
              "      box-shadow: 0px 1px 2px rgba(60, 64, 67, 0.3), 0px 1px 3px 1px rgba(60, 64, 67, 0.15);\n",
              "      fill: #174EA6;\n",
              "    }\n",
              "\n",
              "    [theme=dark] .colab-df-convert {\n",
              "      background-color: #3B4455;\n",
              "      fill: #D2E3FC;\n",
              "    }\n",
              "\n",
              "    [theme=dark] .colab-df-convert:hover {\n",
              "      background-color: #434B5C;\n",
              "      box-shadow: 0px 1px 3px 1px rgba(0, 0, 0, 0.15);\n",
              "      filter: drop-shadow(0px 1px 2px rgba(0, 0, 0, 0.3));\n",
              "      fill: #FFFFFF;\n",
              "    }\n",
              "  </style>\n",
              "\n",
              "      <script>\n",
              "        const buttonEl =\n",
              "          document.querySelector('#df-ec0fa350-9bbd-4757-904e-47b65a32f2d3 button.colab-df-convert');\n",
              "        buttonEl.style.display =\n",
              "          google.colab.kernel.accessAllowed ? 'block' : 'none';\n",
              "\n",
              "        async function convertToInteractive(key) {\n",
              "          const element = document.querySelector('#df-ec0fa350-9bbd-4757-904e-47b65a32f2d3');\n",
              "          const dataTable =\n",
              "            await google.colab.kernel.invokeFunction('convertToInteractive',\n",
              "                                                     [key], {});\n",
              "          if (!dataTable) return;\n",
              "\n",
              "          const docLinkHtml = 'Like what you see? Visit the ' +\n",
              "            '<a target=\"_blank\" href=https://colab.research.google.com/notebooks/data_table.ipynb>data table notebook</a>'\n",
              "            + ' to learn more about interactive tables.';\n",
              "          element.innerHTML = '';\n",
              "          dataTable['output_type'] = 'display_data';\n",
              "          await google.colab.output.renderOutput(dataTable, element);\n",
              "          const docLink = document.createElement('div');\n",
              "          docLink.innerHTML = docLinkHtml;\n",
              "          element.appendChild(docLink);\n",
              "        }\n",
              "      </script>\n",
              "    </div>\n",
              "  </div>\n",
              "  "
            ]
          },
          "metadata": {},
          "execution_count": 4
        }
      ]
    },
    {
      "cell_type": "code",
      "source": [
        "#Normalization using MinMaxScaler\n",
        "scaler = MinMaxScaler()\n",
        "df[['Open','High','Low','Close','Volume']] = scaler.fit_transform(df[['Open','High','Low','Close','Volume']])\n",
        "\n",
        "df.head(3)"
      ],
      "metadata": {
        "colab": {
          "base_uri": "https://localhost:8080/",
          "height": 143
        },
        "id": "8Hy09MLRHdnK",
        "outputId": "f5604335-bce7-44e4-df77-14837b0ddb42"
      },
      "execution_count": 5,
      "outputs": [
        {
          "output_type": "execute_result",
          "data": {
            "text/plain": [
              "         Date      Open      High       Low     Close    Adj Close    Volume\n",
              "0  2019-01-30  0.722898  0.732351  0.745525  0.759235  2206.199951  0.242113\n",
              "1  2019-01-31  0.763058  0.750069  0.769089  0.757866  2204.850098  0.274771\n",
              "2  2019-02-01  0.751894  0.745714  0.769280  0.756456  2203.459961  0.241609"
            ],
            "text/html": [
              "\n",
              "  <div id=\"df-0349003a-0a5c-4b67-a408-7b244c780cd8\">\n",
              "    <div class=\"colab-df-container\">\n",
              "      <div>\n",
              "<style scoped>\n",
              "    .dataframe tbody tr th:only-of-type {\n",
              "        vertical-align: middle;\n",
              "    }\n",
              "\n",
              "    .dataframe tbody tr th {\n",
              "        vertical-align: top;\n",
              "    }\n",
              "\n",
              "    .dataframe thead th {\n",
              "        text-align: right;\n",
              "    }\n",
              "</style>\n",
              "<table border=\"1\" class=\"dataframe\">\n",
              "  <thead>\n",
              "    <tr style=\"text-align: right;\">\n",
              "      <th></th>\n",
              "      <th>Date</th>\n",
              "      <th>Open</th>\n",
              "      <th>High</th>\n",
              "      <th>Low</th>\n",
              "      <th>Close</th>\n",
              "      <th>Adj Close</th>\n",
              "      <th>Volume</th>\n",
              "    </tr>\n",
              "  </thead>\n",
              "  <tbody>\n",
              "    <tr>\n",
              "      <th>0</th>\n",
              "      <td>2019-01-30</td>\n",
              "      <td>0.722898</td>\n",
              "      <td>0.732351</td>\n",
              "      <td>0.745525</td>\n",
              "      <td>0.759235</td>\n",
              "      <td>2206.199951</td>\n",
              "      <td>0.242113</td>\n",
              "    </tr>\n",
              "    <tr>\n",
              "      <th>1</th>\n",
              "      <td>2019-01-31</td>\n",
              "      <td>0.763058</td>\n",
              "      <td>0.750069</td>\n",
              "      <td>0.769089</td>\n",
              "      <td>0.757866</td>\n",
              "      <td>2204.850098</td>\n",
              "      <td>0.274771</td>\n",
              "    </tr>\n",
              "    <tr>\n",
              "      <th>2</th>\n",
              "      <td>2019-02-01</td>\n",
              "      <td>0.751894</td>\n",
              "      <td>0.745714</td>\n",
              "      <td>0.769280</td>\n",
              "      <td>0.756456</td>\n",
              "      <td>2203.459961</td>\n",
              "      <td>0.241609</td>\n",
              "    </tr>\n",
              "  </tbody>\n",
              "</table>\n",
              "</div>\n",
              "      <button class=\"colab-df-convert\" onclick=\"convertToInteractive('df-0349003a-0a5c-4b67-a408-7b244c780cd8')\"\n",
              "              title=\"Convert this dataframe to an interactive table.\"\n",
              "              style=\"display:none;\">\n",
              "        \n",
              "  <svg xmlns=\"http://www.w3.org/2000/svg\" height=\"24px\"viewBox=\"0 0 24 24\"\n",
              "       width=\"24px\">\n",
              "    <path d=\"M0 0h24v24H0V0z\" fill=\"none\"/>\n",
              "    <path d=\"M18.56 5.44l.94 2.06.94-2.06 2.06-.94-2.06-.94-.94-2.06-.94 2.06-2.06.94zm-11 1L8.5 8.5l.94-2.06 2.06-.94-2.06-.94L8.5 2.5l-.94 2.06-2.06.94zm10 10l.94 2.06.94-2.06 2.06-.94-2.06-.94-.94-2.06-.94 2.06-2.06.94z\"/><path d=\"M17.41 7.96l-1.37-1.37c-.4-.4-.92-.59-1.43-.59-.52 0-1.04.2-1.43.59L10.3 9.45l-7.72 7.72c-.78.78-.78 2.05 0 2.83L4 21.41c.39.39.9.59 1.41.59.51 0 1.02-.2 1.41-.59l7.78-7.78 2.81-2.81c.8-.78.8-2.07 0-2.86zM5.41 20L4 18.59l7.72-7.72 1.47 1.35L5.41 20z\"/>\n",
              "  </svg>\n",
              "      </button>\n",
              "      \n",
              "  <style>\n",
              "    .colab-df-container {\n",
              "      display:flex;\n",
              "      flex-wrap:wrap;\n",
              "      gap: 12px;\n",
              "    }\n",
              "\n",
              "    .colab-df-convert {\n",
              "      background-color: #E8F0FE;\n",
              "      border: none;\n",
              "      border-radius: 50%;\n",
              "      cursor: pointer;\n",
              "      display: none;\n",
              "      fill: #1967D2;\n",
              "      height: 32px;\n",
              "      padding: 0 0 0 0;\n",
              "      width: 32px;\n",
              "    }\n",
              "\n",
              "    .colab-df-convert:hover {\n",
              "      background-color: #E2EBFA;\n",
              "      box-shadow: 0px 1px 2px rgba(60, 64, 67, 0.3), 0px 1px 3px 1px rgba(60, 64, 67, 0.15);\n",
              "      fill: #174EA6;\n",
              "    }\n",
              "\n",
              "    [theme=dark] .colab-df-convert {\n",
              "      background-color: #3B4455;\n",
              "      fill: #D2E3FC;\n",
              "    }\n",
              "\n",
              "    [theme=dark] .colab-df-convert:hover {\n",
              "      background-color: #434B5C;\n",
              "      box-shadow: 0px 1px 3px 1px rgba(0, 0, 0, 0.15);\n",
              "      filter: drop-shadow(0px 1px 2px rgba(0, 0, 0, 0.3));\n",
              "      fill: #FFFFFF;\n",
              "    }\n",
              "  </style>\n",
              "\n",
              "      <script>\n",
              "        const buttonEl =\n",
              "          document.querySelector('#df-0349003a-0a5c-4b67-a408-7b244c780cd8 button.colab-df-convert');\n",
              "        buttonEl.style.display =\n",
              "          google.colab.kernel.accessAllowed ? 'block' : 'none';\n",
              "\n",
              "        async function convertToInteractive(key) {\n",
              "          const element = document.querySelector('#df-0349003a-0a5c-4b67-a408-7b244c780cd8');\n",
              "          const dataTable =\n",
              "            await google.colab.kernel.invokeFunction('convertToInteractive',\n",
              "                                                     [key], {});\n",
              "          if (!dataTable) return;\n",
              "\n",
              "          const docLinkHtml = 'Like what you see? Visit the ' +\n",
              "            '<a target=\"_blank\" href=https://colab.research.google.com/notebooks/data_table.ipynb>data table notebook</a>'\n",
              "            + ' to learn more about interactive tables.';\n",
              "          element.innerHTML = '';\n",
              "          dataTable['output_type'] = 'display_data';\n",
              "          await google.colab.output.renderOutput(dataTable, element);\n",
              "          const docLink = document.createElement('div');\n",
              "          docLink.innerHTML = docLinkHtml;\n",
              "          element.appendChild(docLink);\n",
              "        }\n",
              "      </script>\n",
              "    </div>\n",
              "  </div>\n",
              "  "
            ]
          },
          "metadata": {},
          "execution_count": 5
        }
      ]
    },
    {
      "cell_type": "code",
      "source": [
        "#device settings\n",
        "device = torch.device('cuda:0' if torch.cuda.is_available() else 'cpu')\n",
        "print(f'{device} is available')"
      ],
      "metadata": {
        "colab": {
          "base_uri": "https://localhost:8080/"
        },
        "id": "wlm4BqimIETk",
        "outputId": "bcdca708-c0fc-42f7-a64c-b8d9b3493e1c"
      },
      "execution_count": 6,
      "outputs": [
        {
          "output_type": "stream",
          "name": "stdout",
          "text": [
            "cuda:0 is available\n"
          ]
        }
      ]
    },
    {
      "cell_type": "code",
      "source": [
        "#split data into target and features\n",
        "X = df[['Open','High','Low','Volume']].values\n",
        "y = df['Close'].values"
      ],
      "metadata": {
        "id": "5RbgEXs4IOMa"
      },
      "execution_count": 7,
      "outputs": []
    },
    {
      "cell_type": "code",
      "source": [
        "def seq_data(x,y,sequence_length):\n",
        "  x_seq = []\n",
        "  y_seq = []\n",
        "  for i in range(len(x) - sequence_length):\n",
        "    x_seq.append(x[i:i+sequence_length])\n",
        "    y_seq.append(y[i+sequence_length])\n",
        "  \n",
        "  return torch.FloatTensor(x_seq).to(device), torch.FloatTensor(y_seq).to(device).view([-1,1])"
      ],
      "metadata": {
        "id": "nu8a1Fs-IaGP"
      },
      "execution_count": 8,
      "outputs": []
    },
    {
      "cell_type": "code",
      "source": [
        "split = 200\n",
        "sequence_length = 5\n",
        "\n",
        "x_seq, y_seq = seq_data(X, y, sequence_length)\n",
        "\n",
        "x_train_seq = x_seq[:split]\n",
        "y_train_seq = y_seq[:split]\n",
        "x_test_seq = x_seq[split:]\n",
        "y_test_seq = y_seq[split:]\n",
        "print(x_train_seq.size(), y_train_seq.size())\n",
        "print(x_test_seq.size(), y_test_seq.size())"
      ],
      "metadata": {
        "colab": {
          "base_uri": "https://localhost:8080/"
        },
        "id": "OrCyn41rJTrX",
        "outputId": "c354af48-a165-4585-bc7f-7e037268ed8f"
      },
      "execution_count": 10,
      "outputs": [
        {
          "output_type": "stream",
          "name": "stderr",
          "text": [
            "/usr/local/lib/python3.7/dist-packages/ipykernel_launcher.py:8: UserWarning: Creating a tensor from a list of numpy.ndarrays is extremely slow. Please consider converting the list to a single numpy.ndarray with numpy.array() before converting to a tensor. (Triggered internally at  ../torch/csrc/utils/tensor_new.cpp:201.)\n",
            "  \n"
          ]
        },
        {
          "output_type": "stream",
          "name": "stdout",
          "text": [
            "torch.Size([200, 5, 4]) torch.Size([200, 1])\n",
            "torch.Size([226, 5, 4]) torch.Size([226, 1])\n"
          ]
        }
      ]
    },
    {
      "cell_type": "code",
      "source": [
        "#batch formation\n",
        "train = torch.utils.data.TensorDataset(x_train_seq, y_train_seq)\n",
        "test = torch.utils.data.TensorDataset(x_test_seq, y_test_seq)\n",
        "\n",
        "batch_size = 20\n",
        "\n",
        "train_loader = torch.utils.data.DataLoader(dataset = train, batch_size = batch_size , shuffle = False)\n",
        "test_loader = torch.utils.data.DataLoader(dataset = test, batch_size = batch_size , shuffle = False)"
      ],
      "metadata": {
        "id": "6wYmMPeDJix2"
      },
      "execution_count": 11,
      "outputs": []
    },
    {
      "cell_type": "code",
      "source": [
        "#RNN : 입력 노드 수, 레이어 개수, hidden state 크기\n",
        "input_size = x_seq.size(2) #features 의 개수\n",
        "num_layers = 2\n",
        "hidden_size = 8"
      ],
      "metadata": {
        "id": "uzZxDLRVKISF"
      },
      "execution_count": 14,
      "outputs": []
    },
    {
      "cell_type": "code",
      "source": [
        "class CustomLSTM(nn.Module):\n",
        "  def __init__(self, input_size,hidden_size, sequence_length, num_layers, device):\n",
        "    super(CustomLSTM,self).__init__()\n",
        "    self.device = device\n",
        "    self.hidden_size = hidden_size\n",
        "    self.num_layers = num_layers\n",
        "    self.lstm = nn.LSTM(input_size,hidden_size, num_layers, batch_first=True)\n",
        "    self.fc = nn.Sequential(nn.Linear(hidden_size * sequence_length,1), nn.Sigmoid())\n",
        "  def forward(self, x):\n",
        "    h0 = torch.zeros(self.num_layers, x.size()[0], self.hidden_size).to(self.device) # 초기 hidden state 설정하기.\n",
        "    c0 = torch.zeros(self.num_layers, x.size()[0], self.hidden_size).to(self.device) # 초기 cell state 설정하기.\n",
        "    out, _ = self.lstm(x, (h0, c0)) # out: RNN의 마지막 레이어로부터 나온 output feature 를 반환한다. hn: hidden state를 반환한다.\n",
        "    out = out.reshape(out.shape[0], -1) # many to many 전략\n",
        "    out = self.fc(out)\n",
        "    return out"
      ],
      "metadata": {
        "id": "tTrkyQyyKfJq"
      },
      "execution_count": 36,
      "outputs": []
    },
    {
      "cell_type": "code",
      "source": [
        "model = CustomLSTM(input_size=input_size,\n",
        "                   hidden_size=hidden_size,\n",
        "                   sequence_length=sequence_length,\n",
        "                   num_layers=num_layers,\n",
        "                   device=device).to(device)"
      ],
      "metadata": {
        "id": "ZjUvFE4JMS7X"
      },
      "execution_count": 37,
      "outputs": []
    },
    {
      "cell_type": "code",
      "source": [
        "criterion = nn.MSELoss()\n",
        "\n",
        "lr = 1e-3\n",
        "num_epochs = 200\n",
        "optimizer = optim.Adam(model.parameters(),lr = lr)"
      ],
      "metadata": {
        "id": "eUK8g_AhMaRe"
      },
      "execution_count": 38,
      "outputs": []
    },
    {
      "cell_type": "code",
      "source": [
        "#model train\n",
        "\n",
        "loss_graph = []\n",
        "n = len(train_loader)\n",
        "\n",
        "for epoch in range(num_epochs):\n",
        "  running_loss = 0.0\n",
        "\n",
        "  for data in train_loader:\n",
        "    seq, target = data\n",
        "    output = model(seq)\n",
        "    loss = criterion(output, target)\n",
        "\n",
        "    optimizer.zero_grad()\n",
        "    loss.backward()\n",
        "    optimizer.step()\n",
        "    running_loss += loss.item()\n",
        "\n",
        "  loss_graph.append(running_loss / n)\n",
        "\n",
        "  if epoch % 100 == 0:\n",
        "    print('[epoch: %d] loss: %.4f'%(epoch, running_loss/n))"
      ],
      "metadata": {
        "colab": {
          "base_uri": "https://localhost:8080/"
        },
        "id": "84FNhPsNMn5h",
        "outputId": "7671b504-dcd1-49d6-8f44-481a76cadcc2"
      },
      "execution_count": 39,
      "outputs": [
        {
          "output_type": "stream",
          "name": "stdout",
          "text": [
            "[epoch: 0] loss: 0.0254\n",
            "[epoch: 100] loss: 0.0055\n"
          ]
        }
      ]
    },
    {
      "cell_type": "code",
      "source": [
        "plt.figure(figsize=(20,10))\n",
        "plt.plot(loss_graph)\n",
        "plt.show()"
      ],
      "metadata": {
        "colab": {
          "base_uri": "https://localhost:8080/",
          "height": 500
        },
        "id": "KyASfFuUNO9x",
        "outputId": "3a5e23b2-8769-4237-9b5e-61f5f15a8a19"
      },
      "execution_count": 40,
      "outputs": [
        {
          "output_type": "display_data",
          "data": {
            "text/plain": [
              "<Figure size 1440x720 with 1 Axes>"
            ],
            "image/png": "[encoded data removed]"
          },
          "metadata": {
            "needs_background": "light"
          }
        }
      ]
    },
    {
      "cell_type": "code",
      "source": [
        "def plotting(train_loader, test_loader, actual):\n",
        "  with torch.no_grad():\n",
        "    train_pred = []\n",
        "    test_pred = []\n",
        "\n",
        "    for data in train_loader:\n",
        "      seq, target = data\n",
        "      out = model(seq)\n",
        "      train_pred += out.cpu().numpy().tolist()\n",
        "\n",
        "    for data in test_loader:\n",
        "      seq, target = data\n",
        "      out = model(seq)\n",
        "      test_pred += out.cpu().numpy().tolist()\n",
        "      \n",
        "  total = train_pred + test_pred\n",
        "  plt.figure(figsize=(20,10))\n",
        "  plt.plot(np.ones(100)*len(train_pred), np.linspace(0,1,100), '--', linewidth=0.6)\n",
        "  plt.plot(actual, '--')\n",
        "  plt.plot(total, 'b', linewidth=0.6)\n",
        "\n",
        "  plt.legend(['train boundary', 'actual', 'prediction'])\n",
        "  plt.show()\n",
        "\n",
        "plotting(train_loader, test_loader, df['Close'][sequence_length:])"
      ],
      "metadata": {
        "colab": {
          "base_uri": "https://localhost:8080/",
          "height": 612
        },
        "id": "8kG7ENaqPfBp",
        "outputId": "fa40c6e8-f321-4f56-98e2-6d4b89e91a41"
      },
      "execution_count": 41,
      "outputs": [
        {
          "output_type": "display_data",
          "data": {
            "text/plain": [
              "<Figure size 1440x720 with 1 Axes>"
            ],
            "image/png": "[encoded data removed]"
          },
          "metadata": {
            "needs_background": "light"
          }
        }
      ]
    },
    {
      "cell_type": "markdown",
      "source": [
        "팍 떨어지는 부분을 잘 예측하지 못한 경우가 있다."
      ],
      "metadata": {
        "id": "2nIxZCr4Pp5_"
      }
    },
    {
      "cell_type": "code",
      "source": [
        ""
      ],
      "metadata": {
        "id": "luTjRi8dPkF0"
      },
      "execution_count": null,
      "outputs": []
    }
  ]
}