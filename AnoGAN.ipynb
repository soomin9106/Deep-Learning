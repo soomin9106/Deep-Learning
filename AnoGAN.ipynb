{
  "cells": [
    {
      "cell_type": "markdown",
      "metadata": {
        "id": "view-in-github",
        "colab_type": "text"
      },
      "source": [
        "<a href=\"https://colab.research.google.com/github/soomin9106/Deep-Learning/blob/main/AnoGAN.ipynb\" target=\"_parent\"><img src=\"https://colab.research.google.com/assets/colab-badge.svg\" alt=\"Open In Colab\"/></a>"
      ]
    },
    {
      "cell_type": "markdown",
      "metadata": {
        "id": "53iSA74KVQCe"
      },
      "source": [
        "## AnoGAN 구현\n",
        "** 하드웨어 가속기를 GPU 로 설정 **\n",
        "\n",
        "코드 참고 \n",
        "\n",
        "\n",
        "DCGAN 구현 파트 : tensorflow 공식 사이트\n",
        "\n",
        "\n",
        "Anomaly Detection 구현 파트 : https://github.com/mullue/anogan-mnist/blob/master/dcgan%2Banogan.ipynb"
      ]
    },
    {
      "cell_type": "markdown",
      "source": [
        "1. 28* 28 * 3 시도 : 아예 안됨\n",
        "\n",
        "2. 64 * 64 * 3 시도 : 맞는 결과가 나오긴 함 (정상 데이터의 loss 값이 비정상 데이터의 loss 값보다 작음)\n",
        "\n",
        "3. 128 * 128 * 3 시도 : 가능할까...?"
      ],
      "metadata": {
        "id": "-MR6GNYmsxBA"
      }
    },
    {
      "cell_type": "markdown",
      "metadata": {
        "id": "JfXXisWL22V0"
      },
      "source": [
        "### Module install & import\n",
        "\n"
      ]
    },
    {
      "cell_type": "code",
      "execution_count": null,
      "metadata": {
        "colab": {
          "base_uri": "https://localhost:8080/"
        },
        "id": "Vvi33jcZ2fmi",
        "outputId": "ebcd791d-98ff-401f-9503-a33f06b65c9e"
      },
      "outputs": [
        {
          "output_type": "stream",
          "name": "stdout",
          "text": [
            "\u001b[31mERROR: Could not find a version that satisfies the requirement tensorflow-gpu==2.0.0-rc1 (from versions: 1.13.1, 1.13.2, 1.14.0, 1.15.0, 1.15.2, 1.15.3, 1.15.4, 1.15.5, 2.0.0, 2.0.1, 2.0.2, 2.0.3, 2.0.4, 2.1.0, 2.1.1, 2.1.2, 2.1.3, 2.1.4, 2.2.0, 2.2.1, 2.2.2, 2.2.3, 2.3.0, 2.3.1, 2.3.2, 2.3.3, 2.3.4, 2.4.0, 2.4.1, 2.4.2, 2.4.3, 2.4.4, 2.5.0, 2.5.1, 2.5.2, 2.5.3, 2.6.0, 2.6.1, 2.6.2, 2.6.3, 2.7.0rc0, 2.7.0rc1, 2.7.0, 2.7.1, 2.8.0rc0, 2.8.0rc1, 2.8.0, 2.9.0rc0, 2.9.0rc1)\u001b[0m\n",
            "\u001b[31mERROR: No matching distribution found for tensorflow-gpu==2.0.0-rc1\u001b[0m\n"
          ]
        }
      ],
      "source": [
        "pip install -q tensorflow-gpu==2.0.0-rc1"
      ]
    },
    {
      "cell_type": "code",
      "execution_count": null,
      "metadata": {
        "id": "-_z-Wn782o0-"
      },
      "outputs": [],
      "source": [
        "import tensorflow as tf"
      ]
    },
    {
      "cell_type": "code",
      "execution_count": null,
      "metadata": {
        "id": "Xm9ePTOz2u0j"
      },
      "outputs": [],
      "source": [
        "pip install -q imageio"
      ]
    },
    {
      "cell_type": "code",
      "execution_count": null,
      "metadata": {
        "id": "jDM0fewD2xs-"
      },
      "outputs": [],
      "source": [
        "import glob\n",
        "import imageio\n",
        "import matplotlib.pyplot as plt\n",
        "import numpy as np\n",
        "import os\n",
        "import PIL\n",
        "from tensorflow.keras import layers\n",
        "import time\n",
        "\n",
        "from IPython import display"
      ]
    },
    {
      "cell_type": "code",
      "execution_count": null,
      "metadata": {
        "id": "lphimT3H38X8"
      },
      "outputs": [],
      "source": [
        "from tensorflow.keras.layers import *"
      ]
    },
    {
      "cell_type": "code",
      "execution_count": null,
      "metadata": {
        "id": "KXZ7-LgXiQ27"
      },
      "outputs": [],
      "source": [
        "import cv2"
      ]
    },
    {
      "cell_type": "code",
      "source": [
        "from google.colab import drive\n",
        "drive.mount('/content/drive')"
      ],
      "metadata": {
        "colab": {
          "base_uri": "https://localhost:8080/"
        },
        "id": "gihjnnxQZnTM",
        "outputId": "2eabb940-9b94-43f5-ba6d-19d78f780227"
      },
      "execution_count": null,
      "outputs": [
        {
          "output_type": "stream",
          "name": "stdout",
          "text": [
            "Mounted at /content/drive\n"
          ]
        }
      ]
    },
    {
      "cell_type": "code",
      "source": [
        "import albumentations as A"
      ],
      "metadata": {
        "id": "a1KjS2e_Z-Qf"
      },
      "execution_count": null,
      "outputs": []
    },
    {
      "cell_type": "markdown",
      "metadata": {
        "id": "1-KSbevU28Ly"
      },
      "source": [
        "### Dataset loading and preparing"
      ]
    },
    {
      "cell_type": "code",
      "execution_count": null,
      "metadata": {
        "id": "EcFwsL6fdqYH"
      },
      "outputs": [],
      "source": [
        "path = '/content/drive/MyDrive/dataset' #your path\n",
        "train_images = []\n",
        "\n",
        "#/content/drive/MyDrive/dataset/KEMP_IMG_DATA_1.png (example)\n",
        "\n",
        "for item in os.listdir(path):\n",
        "  #print(item)\n",
        "  imgpath = path +'/' + item\n",
        "  f = cv2.imread(imgpath)\n",
        "  f = cv2.cvtColor(f, cv2.COLOR_BGR2RGB)\n",
        "  train_images.append(f)"
      ]
    },
    {
      "cell_type": "code",
      "execution_count": null,
      "metadata": {
        "colab": {
          "base_uri": "https://localhost:8080/"
        },
        "id": "zGGyh9ZaieQx",
        "outputId": "bf716d75-e093-4eb2-fedf-e649f1612a14"
      },
      "outputs": [
        {
          "output_type": "stream",
          "name": "stdout",
          "text": [
            "(1102, 720, 480, 3)\n"
          ]
        }
      ],
      "source": [
        "train_images = np.array(train_images)\n",
        "print(train_images.shape)"
      ]
    },
    {
      "cell_type": "code",
      "execution_count": null,
      "metadata": {
        "id": "EARASxv3m-Ct"
      },
      "outputs": [],
      "source": [
        "#이미지 resizing (높이와 너비 맞추기)\n",
        "tr_images = []\n",
        "for image in train_images:\n",
        "  image = cv2.resize(image, dsize = (128, 128),interpolation = cv2.INTER_NEAREST)\n",
        "  tr_images.append(image)"
      ]
    },
    {
      "cell_type": "code",
      "source": [
        "tr_images = np.array(tr_images)\n",
        "print(tr_images.shape)"
      ],
      "metadata": {
        "colab": {
          "base_uri": "https://localhost:8080/"
        },
        "id": "3GA8a56CmPTj",
        "outputId": "757b0841-cf47-49ce-fb13-d54ecab37500"
      },
      "execution_count": null,
      "outputs": [
        {
          "output_type": "stream",
          "name": "stdout",
          "text": [
            "(1102, 128, 128, 3)\n"
          ]
        }
      ]
    },
    {
      "cell_type": "code",
      "execution_count": null,
      "metadata": {
        "id": "R99fc2m33P3_"
      },
      "outputs": [],
      "source": [
        "#[-1 ~ 1] 로 정규화 \n",
        "tr_images = (tr_images - 127.5) / 127.5"
      ]
    },
    {
      "cell_type": "code",
      "source": [
        "augmentor = A.Compose([\n",
        "  A.HorizontalFlip(p = 0.5),\n",
        "  A.VerticalFlip(p = 0.5),\n",
        "  A.Rotate(limit=90, p=1, border_mode=cv2.BORDER_REPLICATE)                  \n",
        "])\n",
        "\n",
        "augmented_images = []\n",
        "\n",
        "for img in tr_images:\n",
        "  augmented = augmentor(image = img)['image']\n",
        "  augmented_images.append(augmented)"
      ],
      "metadata": {
        "id": "FZK4hys9KOUj"
      },
      "execution_count": null,
      "outputs": []
    },
    {
      "cell_type": "code",
      "execution_count": null,
      "metadata": {
        "id": "3-co9kKr3SjE"
      },
      "outputs": [],
      "source": [
        "BUFFER_SIZE = 1102\n",
        "BATCH_SIZE = 64 \n",
        "\n",
        "# 데이터 배치를 만들고 섞습니다.\n",
        "train_dataset = tf.data.Dataset.from_tensor_slices(augmented_images).shuffle(BUFFER_SIZE).batch(BATCH_SIZE)"
      ]
    },
    {
      "cell_type": "markdown",
      "metadata": {
        "id": "h2DnWLt-3ec7"
      },
      "source": [
        "### Model Part"
      ]
    },
    {
      "cell_type": "markdown",
      "metadata": {
        "id": "r2JKaLhx3gw5"
      },
      "source": [
        "#### generator\n",
        "생성자는 시드값 (seed; 랜덤한 잡음)으로부터 이미지를 생성하기 위해, tf.keras.layers.Conv2DTranspose (업샘플링) 층을 이용합니다. 처음 Dense층은 이 시드값을 인풋으로 받습니다. 그 다음 원하는 사이즈의 이미지가 나오도록 업샘플링을 여러번 합니다. tanh를 사용하는 마지막 층을 제외한 나머지 각 층마다 활성함수로 tf.keras.layers.LeakyReLU을 사용하고 있음을 주목합시다."
      ]
    },
    {
      "cell_type": "code",
      "execution_count": null,
      "metadata": {
        "id": "YXHUXPcM3cN7"
      },
      "outputs": [],
      "source": [
        "def make_generator_model():\n",
        "    model = tf.keras.Sequential()\n",
        "    model.add(layers.Dense(8*8*512, use_bias=False, input_shape=(100,)))\n",
        "    model.add(layers.BatchNormalization())\n",
        "    model.add(layers.LeakyReLU())\n",
        "\n",
        "    model.add(layers.Reshape((8, 8, 512)))\n",
        "    assert model.output_shape == (None, 8, 8, 512) # 주목: 배치사이즈로 None이 주어집니다.\n",
        "\n",
        "    model.add(layers.Conv2DTranspose(256, (4,4), strides=(2, 2), padding='same', use_bias=False))\n",
        "    assert model.output_shape == (None, 16, 16, 256)\n",
        "    model.add(layers.BatchNormalization())\n",
        "    model.add(layers.LeakyReLU())\n",
        "\n",
        "    model.add(layers.Conv2DTranspose(128, (4,4), strides=(2, 2), padding='same', use_bias=False))\n",
        "    assert model.output_shape == (None, 32, 32, 128)\n",
        "    model.add(layers.BatchNormalization())\n",
        "    model.add(layers.LeakyReLU())\n",
        "\n",
        "    model.add(layers.Conv2DTranspose(64, (4,4), strides=(2, 2), padding='same', use_bias=False))\n",
        "    assert model.output_shape == (None, 64, 64, 64)\n",
        "    model.add(layers.BatchNormalization())\n",
        "    model.add(layers.LeakyReLU())\n",
        "\n",
        "    model.add(layers.Conv2DTranspose(3, (4,4), strides=(2, 2), padding='same', use_bias=False, activation='tanh'))\n",
        "    assert model.output_shape == (None, 128, 128, 3)\n",
        "\n",
        "    return model"
      ]
    },
    {
      "cell_type": "markdown",
      "metadata": {
        "id": "FfajbVoo6U2H"
      },
      "source": [
        "아직 훈련되지 않은 생성자를 사용하여 이미지 생성해보기"
      ]
    },
    {
      "cell_type": "markdown",
      "metadata": {
        "id": "fof7sQ0P63bs"
      },
      "source": [
        "#### Discriminator\n",
        "감별자는 합성곱 신경망(Convolutional Neural Network, CNN) 기반의 이미지 분류기입니다."
      ]
    },
    {
      "cell_type": "code",
      "execution_count": null,
      "metadata": {
        "id": "qkXrG2xe6xdV"
      },
      "outputs": [],
      "source": [
        "def make_discriminator_model():\n",
        "  model = tf.keras.Sequential()\n",
        "  model.add(layers.Conv2D(64,(4,4),strides=(2,2), padding='same', input_shape=[128,128,3]))\n",
        "\n",
        "  model.add(layers.LeakyReLU(0.2))\n",
        "  model.add(layers.Dropout(0.3))\n",
        "\n",
        "  model.add(layers.Conv2D(128, (4,4), strides = (2,2), padding='same'))\n",
        "  model.add(layers.LeakyReLU(0.2))\n",
        "  model.add(layers.Dropout(0.3))\n",
        "\n",
        "  model.add(layers.Conv2D(256, (4,4), strides = (2,2), padding='same'))\n",
        "  model.add(layers.LeakyReLU(0.2))\n",
        "  model.add(layers.Dropout(0.3))\n",
        "\n",
        "  model.add(layers.Conv2D(512, (4,4), strides = (2,2), padding='same'))\n",
        "  model.add(layers.LeakyReLU(0.2))\n",
        "  model.add(layers.Dropout(0.3))\n",
        "\n",
        "  model.add(layers.Flatten())\n",
        "  model.add(layers.Dense(1))\n",
        "\n",
        "  return model"
      ]
    },
    {
      "cell_type": "markdown",
      "metadata": {
        "id": "NpsxcNm4700y"
      },
      "source": [
        "(아직까지 훈련이 되지 않은) 감별자를 사용하여, 생성된 이미지가 진짜인지 가짜인지 판별합니다. 모델은 진짜 이미지에는 양수의 값 (positive values)을, 가짜 이미지에는 음수의 값 (negative values)을 출력하도록 훈련되어집니다."
      ]
    },
    {
      "cell_type": "markdown",
      "source": [
        "#### Encoder"
      ],
      "metadata": {
        "id": "-lPbHAnhgBbZ"
      }
    },
    {
      "cell_type": "code",
      "source": [
        "def encoder(latent_dim = 100, ndf = 128, channels = 3):\n",
        "  model = tf.keras.Sequential()\n",
        "\n",
        "  model.add(layers.Conv2D(ndf, kernel_size = (4,4), strides = 2, padding='same', input_shape=[128,128,3]))\n",
        "  model.add(layers.BatchNormalization())\n",
        "  model.add(layers.LeakyReLU(0.2))\n",
        "\n",
        "  model.add(layers.Conv2D(ndf*2, kernel_size = (4,4), strides = 2, padding='same'))\n",
        "  model.add(layers.BatchNormalization())\n",
        "  model.add(layers.LeakyReLU(0.2))\n",
        "\n",
        "  model.add(layers.Conv2D(ndf*4, kernel_size = (4,4), strides = 2, padding='same'))\n",
        "  model.add(layers.BatchNormalization())\n",
        "  model.add(layers.LeakyReLU(0.2))\n",
        "\n",
        "  model.add(layers.Conv2D(latent_dim, kernel_size = (4,4), strides = 1, padding='same'))\n",
        "  model.add(layers.LeakyReLU(0.2))\n",
        "\n",
        "  return model"
      ],
      "metadata": {
        "id": "Awcqy_hrgDBr"
      },
      "execution_count": null,
      "outputs": []
    },
    {
      "cell_type": "markdown",
      "metadata": {
        "id": "vC-NkSaP8AF_"
      },
      "source": [
        "#### loss function & optimizer"
      ]
    },
    {
      "cell_type": "code",
      "execution_count": null,
      "metadata": {
        "id": "YEZNboPR7-KU"
      },
      "outputs": [],
      "source": [
        "cross_entropy = tf.keras.losses.BinaryCrossentropy(from_logits = True)"
      ]
    },
    {
      "cell_type": "markdown",
      "metadata": {
        "id": "6ppMd98P8M6w"
      },
      "source": [
        "#### 감별자 손실 함수\n",
        "이 메서드는 감별자가 가짜 이미지에서 얼마나 진짜 이미지를 잘 판별하는지 수치화합니다. 진짜 이미지에 대한 감별자의 예측과 1로 이루어진 행렬을 비교하고, 가짜 (생성된) 이미지에 대한 감별자의 예측과 0으로 이루어진 행렬을 비교합니다."
      ]
    },
    {
      "cell_type": "code",
      "execution_count": null,
      "metadata": {
        "id": "U0M4Cddo8LMo"
      },
      "outputs": [],
      "source": [
        "def discriminator_loss(real_output, fake_output):\n",
        "  real_loss = cross_entropy(tf.ones_like(real_output), real_output)\n",
        "  fake_loss = cross_entropy(tf.zeros_like(fake_output), fake_output)\n",
        "  total_loss = real_loss + fake_loss\n",
        "  return total_loss"
      ]
    },
    {
      "cell_type": "markdown",
      "metadata": {
        "id": "fpnaTJka8-cY"
      },
      "source": [
        "#### 생성자 손실함수\n",
        "생성자의 손실함수는 감별자를 얼마나 잘 속였는지에 대해 수치화를 합니다. 직관적으로 생성자가 원활히 수행되고 있다면, 감별자는 가짜 이미지를 진짜 (또는 1)로 분류를 할 것입니다. 여기서 우리는 생성된 이미지에 대한 감별자의 결정을 1로 이루어진 행렬과 비교를 할 것입니다."
      ]
    },
    {
      "cell_type": "code",
      "execution_count": null,
      "metadata": {
        "id": "mwEIw8pg85b4"
      },
      "outputs": [],
      "source": [
        "def generator_loss(fake_output):\n",
        "  return cross_entropy(tf.ones_like(fake_output), fake_output)"
      ]
    },
    {
      "cell_type": "markdown",
      "metadata": {
        "id": "77RXCNxc9Rn9"
      },
      "source": [
        "#### optimizer of G and D"
      ]
    },
    {
      "cell_type": "code",
      "execution_count": null,
      "metadata": {
        "id": "-xdZnwqn9NQO"
      },
      "outputs": [],
      "source": [
        "generator_optimizer = tf.keras.optimizers.Adam(1e-4)\n",
        "discriminator_optimizer = tf.keras.optimizers.Adam(1e-4)"
      ]
    },
    {
      "cell_type": "markdown",
      "metadata": {
        "id": "gWoexHXR9jM9"
      },
      "source": [
        "### Train Part"
      ]
    },
    {
      "cell_type": "markdown",
      "metadata": {
        "id": "hjDmifcZUC9f"
      },
      "source": [
        "#### save check point"
      ]
    },
    {
      "cell_type": "code",
      "execution_count": null,
      "metadata": {
        "id": "eR0ewYs2UFuj"
      },
      "outputs": [],
      "source": [
        "#checkpoint_dir = '/content'\n",
        "#checkpoint_prefix = os.path.join(checkpoint_dir, \"ckpt\")\n",
        "#checkpoint = tf.train.Checkpoint(generator_optimizer=generator_optimizer,\n",
        "#                                discriminator_optimizer=discriminator_optimizer,\n",
        "#                                generator=generator,\n",
        "#                                discriminator=discriminator)\n",
        "\n",
        "\n",
        "def save_models(epoch, discriminator, generator, path='/content'):\n",
        "    discriminator.save_weights('{}/d-{}.ckpt'.format(path,epoch))\n",
        "    generator.save_weights('{}/g-{}.ckpt'.format(path,epoch))"
      ]
    },
    {
      "cell_type": "code",
      "execution_count": null,
      "metadata": {
        "id": "pfDAPxAI9k3n"
      },
      "outputs": [],
      "source": [
        "EPOCHS = 50\n",
        "noise_dim = 100\n",
        "num_examples_to_generate = 16\n",
        "\n",
        "# 이 시드를 시간이 지나도 재활용하겠습니다. \n",
        "# (GIF 애니메이션에서 진전 내용을 시각화하는데 쉽기 때문입니다.) \n",
        "seed = tf.random.normal([num_examples_to_generate, noise_dim])"
      ]
    },
    {
      "cell_type": "markdown",
      "metadata": {
        "id": "1m5QuUpI99aC"
      },
      "source": [
        "훈련 루프는 생성자가 입력으로 랜덤시드를 받는 것으로부터 시작됩니다. 그 시드값을 사용하여 이미지를 생성합니다. 감별자를 사용하여 (훈련 세트에서 갖고온) 진짜 이미지와 (생성자가 생성해낸) 가짜이미지를 분류합니다. 각 모델의 손실을 계산하고, 그래디언트 (gradients)를 사용해 생성자와 감별자를 업데이트합니다."
      ]
    },
    {
      "cell_type": "code",
      "source": [
        "generator = make_generator_model()\n",
        "discriminator = make_discriminator_model()"
      ],
      "metadata": {
        "id": "0BnlckXoMl4a"
      },
      "execution_count": null,
      "outputs": []
    },
    {
      "cell_type": "code",
      "execution_count": null,
      "metadata": {
        "id": "5sJGB5Vf9mt7"
      },
      "outputs": [],
      "source": [
        "# `tf.function`이 어떻게 사용되는지 주목해 주세요.\n",
        "# 이 데코레이터는 함수를 \"컴파일\"합니다.\n",
        "@tf.function\n",
        "def train_step(images):\n",
        "    noise = tf.random.normal([BATCH_SIZE, noise_dim])\n",
        "\n",
        "    with tf.GradientTape() as gen_tape, tf.GradientTape() as disc_tape:\n",
        "      generated_images = generator(noise, training=True)\n",
        "\n",
        "      real_output = discriminator(images, training=True)\n",
        "      fake_output = discriminator(generated_images, training=True)\n",
        "\n",
        "      gen_loss = generator_loss(fake_output)\n",
        "      disc_loss = discriminator_loss(real_output, fake_output)\n",
        "\n",
        "    gradients_of_generator = gen_tape.gradient(gen_loss, generator.trainable_variables)\n",
        "    gradients_of_discriminator = disc_tape.gradient(disc_loss, discriminator.trainable_variables)\n",
        "\n",
        "    generator_optimizer.apply_gradients(zip(gradients_of_generator, generator.trainable_variables))\n",
        "    discriminator_optimizer.apply_gradients(zip(gradients_of_discriminator, discriminator.trainable_variables))"
      ]
    },
    {
      "cell_type": "markdown",
      "source": [
        "#### DCGAN 훈련"
      ],
      "metadata": {
        "id": "xfwHsddANPpM"
      }
    },
    {
      "cell_type": "code",
      "execution_count": null,
      "metadata": {
        "id": "MzQ_8cbO_k1A"
      },
      "outputs": [],
      "source": [
        "def train(dataset, epochs):\n",
        "  for epoch in range(epochs):\n",
        "    start = time.time()\n",
        "\n",
        "    for image_batch in dataset:\n",
        "      train_step(image_batch)\n",
        "\n",
        "    # GIF를 위한 이미지를 바로 생성합니다.\n",
        "    display.clear_output(wait=True)\n",
        "    generate_and_save_images(generator,\n",
        "                             epoch + 1,\n",
        "                             seed)\n",
        "\n",
        "    # print (' 에포크 {} 에서 걸린 시간은 {} 초 입니다'.format(epoch +1, time.time()-start))\n",
        "    print ('Time for epoch {} is {} sec'.format(epoch + 1, time.time()-start))\n",
        "\n",
        "  # 마지막 에포크가 끝난 후 생성합니다.\n",
        "  display.clear_output(wait=True)\n",
        "  generate_and_save_images(generator,\n",
        "                           epochs,\n",
        "                           seed)\n",
        "  # save weights\n",
        "  save_models(epochs, discriminator, generator, '/content')"
      ]
    },
    {
      "cell_type": "markdown",
      "metadata": {
        "id": "_-4NXYhuATzK"
      },
      "source": [
        "#### 이미지 생성 및 저장"
      ]
    },
    {
      "cell_type": "code",
      "execution_count": null,
      "metadata": {
        "id": "DLy5hdIoAS0B"
      },
      "outputs": [],
      "source": [
        "def generate_and_save_images(model, epoch, test_input):\n",
        "  # `training`이 False로 맞춰진 것을 주목하세요.\n",
        "  # 이렇게 하면 (배치정규화를 포함하여) 모든 층들이 추론 모드로 실행됩니다. \n",
        "  predictions = model(test_input, training=False)\n",
        "\n",
        "  fig = plt.figure(figsize=(4,4))\n",
        "\n",
        "  for i in range(predictions.shape[0]):\n",
        "      plt.subplot(4, 4, i+1)\n",
        "      plt.imshow(predictions[i, :, :, 0] * 127.5 + 127.5 )\n",
        "      plt.axis('off')\n",
        "\n",
        "  plt.savefig('image_at_epoch_{:04d}.png'.format(epoch))\n",
        "  plt.show()"
      ]
    },
    {
      "cell_type": "markdown",
      "metadata": {
        "id": "YNRvK9aOAdFZ"
      },
      "source": [
        "#### DCGAN model training\n",
        "*** time consuming ***"
      ]
    },
    {
      "cell_type": "code",
      "execution_count": null,
      "metadata": {
        "colab": {
          "base_uri": "https://localhost:8080/",
          "height": 285
        },
        "id": "gEmdO9diAkht",
        "outputId": "f1d8b3f0-4600-44db-e0ce-dc180d79f60b"
      },
      "outputs": [
        {
          "output_type": "display_data",
          "data": {
            "text/plain": [
              "<Figure size 288x288 with 16 Axes>"
            ],
            "image/png": "[encoded data removed]"
          },
          "metadata": {
            "needs_background": "light"
          }
        },
        {
          "output_type": "stream",
          "name": "stdout",
          "text": [
            "CPU times: user 8min 7s, sys: 4.35 s, total: 8min 11s\n",
            "Wall time: 8min 8s\n"
          ]
        }
      ],
      "source": [
        "%%time\n",
        "train(train_dataset, EPOCHS)"
      ]
    },
    {
      "cell_type": "markdown",
      "source": [
        "#### Encoder Train"
      ],
      "metadata": {
        "id": "_XRNWlr0N2Bc"
      }
    },
    {
      "cell_type": "code",
      "source": [
        "criterion = tf.keras.losses.BinaryCrossentropy(from_logits = True)\n",
        "encoder_optimizer =  tf.keras.losses.MeanSquaredError(\n",
        "    name='mean_squared_error'\n",
        ")\n",
        "e_losses = []\n",
        "\n",
        "def train_encoder(dataset, epochs):\n",
        "  e = encoder(latent_dim = 100, ndf = 128, channels = 3)\n",
        "  discriminator.trainable = False\n",
        "  generator.trainable = False\n",
        "  for epoch in range(epochs):\n",
        "    for step, image_batch in enumerate(dataset):\n",
        "      real_imgs = image_batch\n",
        "\n",
        "      with tf.GradientTape() as en_tape:\n",
        "        z = e(real_imgs)\n",
        "\n",
        "        print(z.shape)\n",
        "\n",
        "        fake_imgs = generator(z)\n",
        "\n",
        "        real = discriminator(real_imgs)\n",
        "        fake = discriminator(fake_imgs)\n",
        "\n",
        "        loss_imgs = criterion(fake_imgs, real_imgs)\n",
        "        loss_features = criterion(fake, real)\n",
        "        e_loss = loss_imgs + 1.0 * loss_features \n",
        "\n",
        "      gradients_of_encoder = en_tape.gradient(e_loss, e.trainable_variables)\n",
        "      encoder_optimizer.apply_gradients(zip(gradients_of_encoder, e.trainable_variables))\n",
        "\n",
        "      if step % 10 == 0:\n",
        "        e_losses.append(e_loss)\n",
        "        print(\n",
        "                \"Training loss (for one batch) at step %d: %.4f\"\n",
        "                % (step, float(e_loss))\n",
        "            )\n",
        "  # save weights\n",
        "  e.save_weights('{}/e-{}.ckpt'.format('/content',epoch))"
      ],
      "metadata": {
        "id": "9KPwZ9W9SNe9"
      },
      "execution_count": null,
      "outputs": []
    },
    {
      "cell_type": "code",
      "source": [
        "train_encoder(train_dataset, 100)"
      ],
      "metadata": {
        "colab": {
          "base_uri": "https://localhost:8080/",
          "height": 368
        },
        "id": "GorlenfsXvlF",
        "outputId": "35c38a7b-2c65-4936-d4b0-983d37e526fa"
      },
      "execution_count": null,
      "outputs": [
        {
          "output_type": "stream",
          "name": "stdout",
          "text": [
            "0\n",
            "(64, 16, 16, 100)\n"
          ]
        },
        {
          "output_type": "error",
          "ename": "ValueError",
          "evalue": "ignored",
          "traceback": [
            "\u001b[0;31m---------------------------------------------------------------------------\u001b[0m",
            "\u001b[0;31mValueError\u001b[0m                                Traceback (most recent call last)",
            "\u001b[0;32m<ipython-input-57-e61fb36ba3db>\u001b[0m in \u001b[0;36m<module>\u001b[0;34m()\u001b[0m\n\u001b[0;32m----> 1\u001b[0;31m \u001b[0mtrain_encoder\u001b[0m\u001b[0;34m(\u001b[0m\u001b[0mtrain_dataset\u001b[0m\u001b[0;34m,\u001b[0m \u001b[0;36m100\u001b[0m\u001b[0;34m)\u001b[0m\u001b[0;34m\u001b[0m\u001b[0;34m\u001b[0m\u001b[0m\n\u001b[0m",
            "\u001b[0;32m<ipython-input-56-5bd69bdd82a7>\u001b[0m in \u001b[0;36mtrain_encoder\u001b[0;34m(dataset, epochs)\u001b[0m\n\u001b[1;32m     17\u001b[0m         \u001b[0mprint\u001b[0m\u001b[0;34m(\u001b[0m\u001b[0mz\u001b[0m\u001b[0;34m.\u001b[0m\u001b[0mshape\u001b[0m\u001b[0;34m)\u001b[0m\u001b[0;34m\u001b[0m\u001b[0;34m\u001b[0m\u001b[0m\n\u001b[1;32m     18\u001b[0m \u001b[0;34m\u001b[0m\u001b[0m\n\u001b[0;32m---> 19\u001b[0;31m         \u001b[0mfake_imgs\u001b[0m \u001b[0;34m=\u001b[0m \u001b[0mgenerator\u001b[0m\u001b[0;34m(\u001b[0m\u001b[0mz\u001b[0m\u001b[0;34m)\u001b[0m\u001b[0;34m\u001b[0m\u001b[0;34m\u001b[0m\u001b[0m\n\u001b[0m\u001b[1;32m     20\u001b[0m \u001b[0;34m\u001b[0m\u001b[0m\n\u001b[1;32m     21\u001b[0m         \u001b[0mreal\u001b[0m \u001b[0;34m=\u001b[0m \u001b[0mdiscriminator\u001b[0m\u001b[0;34m(\u001b[0m\u001b[0mreal_imgs\u001b[0m\u001b[0;34m)\u001b[0m\u001b[0;34m\u001b[0m\u001b[0;34m\u001b[0m\u001b[0m\n",
            "\u001b[0;32m/usr/local/lib/python3.7/dist-packages/keras/utils/traceback_utils.py\u001b[0m in \u001b[0;36merror_handler\u001b[0;34m(*args, **kwargs)\u001b[0m\n\u001b[1;32m     65\u001b[0m     \u001b[0;32mexcept\u001b[0m \u001b[0mException\u001b[0m \u001b[0;32mas\u001b[0m \u001b[0me\u001b[0m\u001b[0;34m:\u001b[0m  \u001b[0;31m# pylint: disable=broad-except\u001b[0m\u001b[0;34m\u001b[0m\u001b[0;34m\u001b[0m\u001b[0m\n\u001b[1;32m     66\u001b[0m       \u001b[0mfiltered_tb\u001b[0m \u001b[0;34m=\u001b[0m \u001b[0m_process_traceback_frames\u001b[0m\u001b[0;34m(\u001b[0m\u001b[0me\u001b[0m\u001b[0;34m.\u001b[0m\u001b[0m__traceback__\u001b[0m\u001b[0;34m)\u001b[0m\u001b[0;34m\u001b[0m\u001b[0;34m\u001b[0m\u001b[0m\n\u001b[0;32m---> 67\u001b[0;31m       \u001b[0;32mraise\u001b[0m \u001b[0me\u001b[0m\u001b[0;34m.\u001b[0m\u001b[0mwith_traceback\u001b[0m\u001b[0;34m(\u001b[0m\u001b[0mfiltered_tb\u001b[0m\u001b[0;34m)\u001b[0m \u001b[0;32mfrom\u001b[0m \u001b[0;32mNone\u001b[0m\u001b[0;34m\u001b[0m\u001b[0;34m\u001b[0m\u001b[0m\n\u001b[0m\u001b[1;32m     68\u001b[0m     \u001b[0;32mfinally\u001b[0m\u001b[0;34m:\u001b[0m\u001b[0;34m\u001b[0m\u001b[0;34m\u001b[0m\u001b[0m\n\u001b[1;32m     69\u001b[0m       \u001b[0;32mdel\u001b[0m \u001b[0mfiltered_tb\u001b[0m\u001b[0;34m\u001b[0m\u001b[0;34m\u001b[0m\u001b[0m\n",
            "\u001b[0;32m/usr/local/lib/python3.7/dist-packages/keras/engine/input_spec.py\u001b[0m in \u001b[0;36massert_input_compatibility\u001b[0;34m(input_spec, inputs, layer_name)\u001b[0m\n\u001b[1;32m    262\u001b[0m         \u001b[0;32mif\u001b[0m \u001b[0mspec_dim\u001b[0m \u001b[0;32mis\u001b[0m \u001b[0;32mnot\u001b[0m \u001b[0;32mNone\u001b[0m \u001b[0;32mand\u001b[0m \u001b[0mdim\u001b[0m \u001b[0;32mis\u001b[0m \u001b[0;32mnot\u001b[0m \u001b[0;32mNone\u001b[0m\u001b[0;34m:\u001b[0m\u001b[0;34m\u001b[0m\u001b[0;34m\u001b[0m\u001b[0m\n\u001b[1;32m    263\u001b[0m           \u001b[0;32mif\u001b[0m \u001b[0mspec_dim\u001b[0m \u001b[0;34m!=\u001b[0m \u001b[0mdim\u001b[0m\u001b[0;34m:\u001b[0m\u001b[0;34m\u001b[0m\u001b[0;34m\u001b[0m\u001b[0m\n\u001b[0;32m--> 264\u001b[0;31m             raise ValueError(f'Input {input_index} of layer \"{layer_name}\" is '\n\u001b[0m\u001b[1;32m    265\u001b[0m                              \u001b[0;34m'incompatible with the layer: '\u001b[0m\u001b[0;34m\u001b[0m\u001b[0;34m\u001b[0m\u001b[0m\n\u001b[1;32m    266\u001b[0m                              \u001b[0;34mf'expected shape={spec.shape}, '\u001b[0m\u001b[0;34m\u001b[0m\u001b[0;34m\u001b[0m\u001b[0m\n",
            "\u001b[0;31mValueError\u001b[0m: Input 0 of layer \"sequential\" is incompatible with the layer: expected shape=(None, 100), found shape=(64, 16, 16, 100)"
          ]
        }
      ]
    },
    {
      "cell_type": "markdown",
      "metadata": {
        "id": "F3ENOPjr0EnA"
      },
      "source": [
        "### Anomaly Detection Part"
      ]
    },
    {
      "cell_type": "markdown",
      "metadata": {
        "id": "SHWTSJCB1qkl"
      },
      "source": [
        "#### AnoGAN 생성\n",
        "AnoGAN 네트워크를 생성합니다. AnoGAN 네트워크의 정의와 학습은 다음 단계를 거칩니다.\n",
        "\n",
        "\n",
        "\n",
        "(1) size 100의 임의의 z를 입력받습니다.\n",
        "\n",
        "(2) 입력된 z는 Dense layer를 지나 generator에 입력하기 위한 latent vector를 생성합니다.\n",
        "\n",
        "(3) latent vector는 fix된 generator를 거쳐 임의의 이미지를 생성합니다.\n",
        "\n",
        "(4) 3)의 결과를 입력으로 하여 fix된 Discriminnator를 거쳐 Real/Fake 판단을 위한 feature vector를 생성합니다.\n",
        "\n",
        "(5) normal/abnormal 판단을 위한 이미지를 이용하여 3), 4)에 대한 Ground truth 값을 생성합니다. (이미지 자체는 3)의 ground truth 역할을 하고, 해당 이미지로부터 Discriminator 연산을 통해 생성한 feature vector는 4)에 대한 ground truth가 됩니다.)\n",
        "\n",
        "(6) 생성된 (a), (b) 값을 ground truth와 비교하여 2)의 Dense layer를 학습합니다.\n",
        "\n",
        "(7) 학습과정에서 사용했던 데이터(정상데이터)일 수록 학습이 더 잘 될 것입니다. 이런 원리로 6) training 작업 loss 자체가 abnoaly score 역할을 할 수 있습니다.\n",
        "\n",
        "AnoGAN 생성시 이전 단계에서 학습된 Generator와 Discriminator 네트워크와 Weight를 로드하여 사용합니다. 아래에서 호출하고 있는 make_discriminator_model()와 make_generator_model()는 앞서 DCGAN학습단계에서 생성한 동일한 함수입니다."
      ]
    },
    {
      "cell_type": "code",
      "execution_count": null,
      "metadata": {
        "colab": {
          "base_uri": "https://localhost:8080/"
        },
        "id": "tEfgZgxTSoTZ",
        "outputId": "8ab7e20e-5470-4608-f991-c3c8c0169ebc"
      },
      "outputs": [
        {
          "output_type": "stream",
          "name": "stderr",
          "text": [
            "/usr/local/lib/python3.7/dist-packages/ipykernel_launcher.py:11: VisibleDeprecationWarning: Creating an ndarray from ragged nested sequences (which is a list-or-tuple of lists-or-tuples-or ndarrays with different lengths or shapes) is deprecated. If you meant to do this, you must specify 'dtype=object' when creating the ndarray.\n",
            "  # This is added back by InteractiveShellApp.init_path()\n"
          ]
        }
      ],
      "source": [
        "path = '/content/drive/MyDrive/test_dataset' #your path\n",
        "test_images = []\n",
        "\n",
        "for item in os.listdir(path):\n",
        "  #print(item)\n",
        "  imgpath = path +'/' + item\n",
        "  f = cv2.imread(imgpath)\n",
        "  f = cv2.cvtColor(f, cv2.COLOR_BGR2RGB)\n",
        "  test_images.append(f)\n",
        "\n",
        "test_images = np.array(test_images)\n",
        "\n",
        "#이미지 resizing (높이와 너비 맞추기)\n",
        "ts_images = []\n",
        "for image in test_images:\n",
        "  image = cv2.resize(image, dsize = (64,64),interpolation = cv2.INTER_NEAREST)\n",
        "  ts_images.append(image)\n",
        "\n",
        "ts_images = np.array(ts_images)\n",
        "\n",
        "ts_images = (ts_images / 255.0) "
      ]
    },
    {
      "cell_type": "code",
      "source": [
        "print(ts_images.shape)"
      ],
      "metadata": {
        "colab": {
          "base_uri": "https://localhost:8080/"
        },
        "id": "yBFR86dsrSkv",
        "outputId": "29fb9b97-d49a-4d2a-b400-4bfbd0dc5546"
      },
      "execution_count": null,
      "outputs": [
        {
          "output_type": "stream",
          "name": "stdout",
          "text": [
            "(59, 64, 64, 3)\n"
          ]
        }
      ]
    },
    {
      "cell_type": "code",
      "execution_count": null,
      "metadata": {
        "id": "jnFRWl500Iza"
      },
      "outputs": [],
      "source": [
        "#Discriminator 로부터 feature 를 도출하는 함수\n",
        "from tensorflow.keras.models import Model\n",
        "\n",
        "def feature_extractor():\n",
        "    d = make_discriminator_model()\n",
        "    d.load_weights('/content/d-50.ckpt') #discriminator model weigth 저장된 파일\n",
        "    intermidiate_model = Model(inputs=d.layers[0].input, outputs=d.layers[-6].output)\n",
        "    intermidiate_model.compile(loss='binary_crossentropy', optimizer='adam')\n",
        "    return intermidiate_model"
      ]
    },
    {
      "cell_type": "code",
      "execution_count": null,
      "metadata": {
        "id": "NXTiw_eF2jjt"
      },
      "outputs": [],
      "source": [
        "#임의의 z로부터 latent vector를 생성하고 Generator와 앞서 feature_extractor를 호출합니다.\n",
        "from tensorflow.keras.layers import Layer, Input, Dense, Flatten\n",
        "\n",
        "def gne_anogan(loss, latent_dim = 100, channels = 1, img_shape=(28,28,3)):\n",
        "  g = make_generator_model()\n",
        "  g.load_weights('/content/g-50.ckpt')\n",
        "  g.trainable = False\n",
        "  intermidiate_model = feature_extractor(img_shape)\n",
        "  intermidiate_model.trainable = False\n",
        "\n",
        "  z = Input(shape=(100,))\n",
        "  gInput = Dense((100))(z)\n",
        "  G_out = g(gInput)\n",
        "  D_out = intermidiate_model(G_out)    \n",
        "  model = Model(inputs=z, outputs=[G_out, D_out])\n",
        "  model.compile(loss=sum_of_residual, loss_weights= [0.9, 0.1], optimizer='adam')\n",
        "\n",
        "  return model"
      ]
    },
    {
      "cell_type": "code",
      "execution_count": null,
      "metadata": {
        "id": "pRbjxELi4Cpr"
      },
      "outputs": [],
      "source": [
        "def sum_of_residual(y_true, y_pred):\n",
        "    return tf.reduce_sum(abs(y_true - y_pred))"
      ]
    },
    {
      "cell_type": "code",
      "execution_count": null,
      "metadata": {
        "colab": {
          "base_uri": "https://localhost:8080/"
        },
        "id": "DjwR8_ro4Djt",
        "outputId": "883eee77-0ae2-493b-9a2f-16106048be43"
      },
      "outputs": [
        {
          "output_type": "stream",
          "name": "stdout",
          "text": [
            "Model: \"model_1\"\n",
            "_________________________________________________________________\n",
            " Layer (type)                Output Shape              Param #   \n",
            "=================================================================\n",
            " input_1 (InputLayer)        [(None, 100)]             0         \n",
            "                                                                 \n",
            " dense_4 (Dense)             (None, 100)               10100     \n",
            "                                                                 \n",
            " sequential_2 (Sequential)   (None, 64, 64, 3)         6036992   \n",
            "                                                                 \n",
            " model (Functional)          (None, 8, 8, 256)         658880    \n",
            "                                                                 \n",
            "=================================================================\n",
            "Total params: 6,705,972\n",
            "Trainable params: 10,100\n",
            "Non-trainable params: 6,695,872\n",
            "_________________________________________________________________\n"
          ]
        }
      ],
      "source": [
        "model = gne_anogan(loss=sum_of_residual)\n",
        "model.summary()"
      ]
    },
    {
      "cell_type": "markdown",
      "metadata": {
        "id": "a8FoWWpES2iA"
      },
      "source": [
        "#### 정상 데이터 테스팅"
      ]
    },
    {
      "cell_type": "code",
      "execution_count": null,
      "metadata": {
        "colab": {
          "base_uri": "https://localhost:8080/",
          "height": 287
        },
        "id": "N6yEaX4QSqlS",
        "outputId": "1d0c4a99-e48c-442e-ae8a-b6961298b27b"
      },
      "outputs": [
        {
          "output_type": "execute_result",
          "data": {
            "text/plain": [
              "<matplotlib.image.AxesImage at 0x7f8b8306df10>"
            ]
          },
          "metadata": {},
          "execution_count": 34
        },
        {
          "output_type": "display_data",
          "data": {
            "text/plain": [
              "<Figure size 288x288 with 1 Axes>"
            ],
            "image/png": "[encoded data removed]"
          },
          "metadata": {
            "needs_background": "light"
          }
        }
      ],
      "source": [
        "nimg = tr_images[1].reshape(64,64,3)\n",
        "plt.figure(figsize=(4,4))\n",
        "plt.imshow(nimg)"
      ]
    },
    {
      "cell_type": "code",
      "execution_count": null,
      "metadata": {
        "colab": {
          "base_uri": "https://localhost:8080/"
        },
        "id": "uEJasF0wS6KR",
        "outputId": "55ca72bc-1150-413a-ae9e-993febbdb97a"
      },
      "outputs": [
        {
          "output_type": "stream",
          "name": "stdout",
          "text": [
            "CPU times: user 4.95 s, sys: 272 ms, total: 5.22 s\n",
            "Wall time: 4.55 s\n"
          ]
        }
      ],
      "source": [
        "%%time\n",
        "z = np.random.uniform(0, 1, size=(1, 100))\n",
        "intermidiate_model = feature_extractor(img_shape=(64,64,3))\n",
        "\n",
        "# ground truth\n",
        "x = nimg.reshape(1,64,64,3)\n",
        "d_x = intermidiate_model.predict(x)\n",
        "\n",
        "# ground truth를 예측하는 z 학습\n",
        "loss = model.fit(z, [x, d_x], epochs=500, verbose=0)"
      ]
    },
    {
      "cell_type": "markdown",
      "metadata": {
        "id": "6hkSQ9oQTMmE"
      },
      "source": [
        "학습을 통해 best latent vector를 추정한 후, 해당 latent vector를 이용하여 생성한 생성 이미지입니다. (500 epoch을 거쳐 원본과 유사한 결과를 생성할 수 있는 z를 찾았고 그 z를 이용하여 생성한 이미지입니다.) 원본 이미지와 유사한 이미지를 생성하고 있습니다."
      ]
    },
    {
      "cell_type": "code",
      "execution_count": null,
      "metadata": {
        "colab": {
          "base_uri": "https://localhost:8080/",
          "height": 305
        },
        "id": "QoV2qJ2yTM8t",
        "outputId": "28d1adeb-a160-42b3-ecca-3f75c34d7aaa"
      },
      "outputs": [
        {
          "output_type": "stream",
          "name": "stderr",
          "text": [
            "Clipping input data to the valid range for imshow with RGB data ([0..1] for floats or [0..255] for integers).\n"
          ]
        },
        {
          "output_type": "execute_result",
          "data": {
            "text/plain": [
              "<matplotlib.image.AxesImage at 0x7f8b830b1fd0>"
            ]
          },
          "metadata": {},
          "execution_count": 36
        },
        {
          "output_type": "display_data",
          "data": {
            "text/plain": [
              "<Figure size 288x288 with 1 Axes>"
            ],
            "image/png": "[encoded data removed]"
          },
          "metadata": {
            "needs_background": "light"
          }
        }
      ],
      "source": [
        "o1, o2 = model.predict(z)\n",
        "plt.figure(figsize=(4,4))\n",
        "plt.imshow(o1.reshape(64,64,3))"
      ]
    },
    {
      "cell_type": "code",
      "execution_count": null,
      "metadata": {
        "colab": {
          "base_uri": "https://localhost:8080/"
        },
        "id": "oe69_VjiTT5E",
        "outputId": "426e80f6-9c27-40b7-c6aa-cb451e84cf07"
      },
      "outputs": [
        {
          "output_type": "execute_result",
          "data": {
            "text/plain": [
              "662.0726928710938"
            ]
          },
          "metadata": {},
          "execution_count": 37
        }
      ],
      "source": [
        "loss.history['loss'][-1]"
      ]
    },
    {
      "cell_type": "code",
      "execution_count": null,
      "metadata": {
        "colab": {
          "base_uri": "https://localhost:8080/",
          "height": 305
        },
        "id": "nXhNAb3bTWhD",
        "outputId": "77c7008c-815b-4388-883f-924d8766c9b8"
      },
      "outputs": [
        {
          "output_type": "stream",
          "name": "stderr",
          "text": [
            "Clipping input data to the valid range for imshow with RGB data ([0..1] for floats or [0..255] for integers).\n"
          ]
        },
        {
          "output_type": "execute_result",
          "data": {
            "text/plain": [
              "<matplotlib.image.AxesImage at 0x7f8b82f71990>"
            ]
          },
          "metadata": {},
          "execution_count": 38
        },
        {
          "output_type": "display_data",
          "data": {
            "text/plain": [
              "<Figure size 288x288 with 1 Axes>"
            ],
            "image/png": "[encoded data removed]"
          },
          "metadata": {
            "needs_background": "light"
          }
        }
      ],
      "source": [
        "plt.figure(figsize=(4,4))\n",
        "plt.imshow(nimg - o1.reshape(64,64,3))"
      ]
    },
    {
      "cell_type": "markdown",
      "metadata": {
        "id": "7UU5XrP_TbyM"
      },
      "source": [
        "#### 이상 데이터 테스트\n",
        "\n",
        "불량 데이터 => 이상 데이터"
      ]
    },
    {
      "cell_type": "code",
      "execution_count": null,
      "metadata": {
        "colab": {
          "base_uri": "https://localhost:8080/",
          "height": 287
        },
        "id": "B0zR_XIpTZAF",
        "outputId": "bd25d5e0-6e19-471f-8a81-a6eca39d0ed6"
      },
      "outputs": [
        {
          "output_type": "execute_result",
          "data": {
            "text/plain": [
              "<matplotlib.image.AxesImage at 0x7f8c0637fe90>"
            ]
          },
          "metadata": {},
          "execution_count": 39
        },
        {
          "output_type": "display_data",
          "data": {
            "text/plain": [
              "<Figure size 288x288 with 1 Axes>"
            ],
            "image/png": "[encoded data removed]"
          },
          "metadata": {
            "needs_background": "light"
          }
        }
      ],
      "source": [
        "aimg = ts_images[2].reshape(64,64,3)\n",
        "plt.figure(figsize=(4,4))\n",
        "plt.imshow(aimg)"
      ]
    },
    {
      "cell_type": "code",
      "execution_count": null,
      "metadata": {
        "colab": {
          "base_uri": "https://localhost:8080/"
        },
        "id": "cp84y2c2TiSL",
        "outputId": "833856fe-da78-4a6e-bf3c-56c359be9201"
      },
      "outputs": [
        {
          "output_type": "stream",
          "name": "stdout",
          "text": [
            "CPU times: user 4.1 s, sys: 266 ms, total: 4.37 s\n",
            "Wall time: 3.68 s\n"
          ]
        }
      ],
      "source": [
        "%%time\n",
        "z = np.random.uniform(0, 1, size=(1, 100))\n",
        "intermidiate_model = feature_extractor(img_shape=(64,64,3))\n",
        "\n",
        "# ground truth\n",
        "x = aimg.reshape(1, 64, 64, 3)\n",
        "d_x = intermidiate_model.predict(x)\n",
        "\n",
        "# ground truth를 예측하는 z 학습\n",
        "loss_a = model.fit(z, [x, d_x], epochs=500, verbose=0)"
      ]
    },
    {
      "cell_type": "code",
      "execution_count": null,
      "metadata": {
        "colab": {
          "base_uri": "https://localhost:8080/",
          "height": 305
        },
        "id": "E3UKhABVTjmV",
        "outputId": "21eb28a2-0ed4-4e45-f6ef-ad12e6c66035"
      },
      "outputs": [
        {
          "output_type": "stream",
          "name": "stderr",
          "text": [
            "Clipping input data to the valid range for imshow with RGB data ([0..1] for floats or [0..255] for integers).\n"
          ]
        },
        {
          "output_type": "execute_result",
          "data": {
            "text/plain": [
              "<matplotlib.image.AxesImage at 0x7f8c185e7490>"
            ]
          },
          "metadata": {},
          "execution_count": 41
        },
        {
          "output_type": "display_data",
          "data": {
            "text/plain": [
              "<Figure size 288x288 with 1 Axes>"
            ],
            "image/png": "[encoded data removed]"
          },
          "metadata": {
            "needs_background": "light"
          }
        }
      ],
      "source": [
        "oa1, oa2 = model.predict(z)\n",
        "plt.figure(figsize=(4,4))\n",
        "plt.imshow(oa1.reshape(64,64,3))"
      ]
    },
    {
      "cell_type": "code",
      "execution_count": null,
      "metadata": {
        "colab": {
          "base_uri": "https://localhost:8080/"
        },
        "id": "CJvbNV_HTpga",
        "outputId": "8254336a-e95a-47ee-cf4f-b5e997c63b1d"
      },
      "outputs": [
        {
          "output_type": "execute_result",
          "data": {
            "text/plain": [
              "929.8133544921875"
            ]
          },
          "metadata": {},
          "execution_count": 42
        }
      ],
      "source": [
        "loss_a.history['loss'][-1]"
      ]
    },
    {
      "cell_type": "code",
      "execution_count": null,
      "metadata": {
        "colab": {
          "base_uri": "https://localhost:8080/",
          "height": 305
        },
        "id": "T2CNGhRtTrlM",
        "outputId": "ce9a7cd2-1dc2-4378-8e85-a553ba40dcb4"
      },
      "outputs": [
        {
          "output_type": "stream",
          "name": "stderr",
          "text": [
            "Clipping input data to the valid range for imshow with RGB data ([0..1] for floats or [0..255] for integers).\n"
          ]
        },
        {
          "output_type": "execute_result",
          "data": {
            "text/plain": [
              "<matplotlib.image.AxesImage at 0x7f8c18535c90>"
            ]
          },
          "metadata": {},
          "execution_count": 43
        },
        {
          "output_type": "display_data",
          "data": {
            "text/plain": [
              "<Figure size 288x288 with 1 Axes>"
            ],
            "image/png": "[encoded data removed]"
          },
          "metadata": {
            "needs_background": "light"
          }
        }
      ],
      "source": [
        "plt.figure(figsize=(4,4))\n",
        "plt.imshow(aimg - oa1.reshape(64,64,3))"
      ]
    },
    {
      "cell_type": "markdown",
      "metadata": {
        "id": "H1Rv3J4wT2RZ"
      },
      "source": [
        "#### 결과 검증\n",
        "\n",
        "각 50건의 정상과 비정상 이미지를 이용하여 Anobal loss를 비교해봅니다."
      ]
    },
    {
      "cell_type": "code",
      "execution_count": null,
      "metadata": {
        "id": "J7S-7Qr4UEeT"
      },
      "outputs": [],
      "source": [
        "nimg_multi = tr_images[:50]"
      ]
    },
    {
      "cell_type": "code",
      "execution_count": null,
      "metadata": {
        "colab": {
          "base_uri": "https://localhost:8080/"
        },
        "id": "geEO5Y4CUN1t",
        "outputId": "421342bd-551f-477b-863d-799f7ce41eef"
      },
      "outputs": [
        {
          "output_type": "stream",
          "name": "stdout",
          "text": [
            "CPU times: user 18.6 s, sys: 484 ms, total: 19.1 s\n",
            "Wall time: 20.8 s\n"
          ]
        }
      ],
      "source": [
        "%%time\n",
        "z = np.random.uniform(0, 1, size=(50, 100))\n",
        "intermidiate_model = feature_extractor(img_shape=(64,64,3))\n",
        "\n",
        "# ground truth\n",
        "x = nimg_multi.reshape(50,64,64,3)\n",
        "d_x = intermidiate_model.predict(x)\n",
        "\n",
        "# ground truth를 예측하는 z 학습\n",
        "loss_normal = model.fit(z, [x, d_x], epochs=500, verbose=0)"
      ]
    },
    {
      "cell_type": "markdown",
      "metadata": {
        "id": "1AiskbL3Udhr"
      },
      "source": [
        "비정상 이미지 로 학습"
      ]
    },
    {
      "cell_type": "code",
      "execution_count": null,
      "metadata": {
        "id": "OgCt_mrrUQbb"
      },
      "outputs": [],
      "source": [
        "aimg_multi = ts_images[:50]"
      ]
    },
    {
      "cell_type": "code",
      "execution_count": null,
      "metadata": {
        "colab": {
          "base_uri": "https://localhost:8080/"
        },
        "id": "WhPvC1KUUieD",
        "outputId": "2d5a8244-0b59-457a-a2c9-acc2fd50f0d7"
      },
      "outputs": [
        {
          "output_type": "stream",
          "name": "stdout",
          "text": [
            "WARNING:tensorflow:5 out of the last 7 calls to <function Model.make_predict_function.<locals>.predict_function at 0x7f8c182745f0> triggered tf.function retracing. Tracing is expensive and the excessive number of tracings could be due to (1) creating @tf.function repeatedly in a loop, (2) passing tensors with different shapes, (3) passing Python objects instead of tensors. For (1), please define your @tf.function outside of the loop. For (2), @tf.function has experimental_relax_shapes=True option that relaxes argument shapes that can avoid unnecessary retracing. For (3), please refer to https://www.tensorflow.org/guide/function#controlling_retracing and https://www.tensorflow.org/api_docs/python/tf/function for  more details.\n",
            "CPU times: user 18.4 s, sys: 480 ms, total: 18.9 s\n",
            "Wall time: 20.7 s\n"
          ]
        }
      ],
      "source": [
        "%%time\n",
        "z = np.random.uniform(0, 1, size=(50, 100))\n",
        "intermidiate_model = feature_extractor(img_shape=(64,64,3))\n",
        "\n",
        "# ground truth\n",
        "x = aimg_multi.reshape(50,64,64,3)\n",
        "d_x = intermidiate_model.predict(x)\n",
        "\n",
        "# ground truth를 예측하는 z 학습\n",
        "loss_abnormal = model.fit(z, [x, d_x], epochs=500, verbose=0)"
      ]
    },
    {
      "cell_type": "markdown",
      "metadata": {
        "id": "CcKvidTjUv37"
      },
      "source": [
        "plot 을 그려 정상 데이터와 비정상 데이터의 loss 값 시각화"
      ]
    },
    {
      "cell_type": "code",
      "execution_count": null,
      "metadata": {
        "colab": {
          "base_uri": "https://localhost:8080/",
          "height": 265
        },
        "id": "-09PqCW8Ujo-",
        "outputId": "cde81c82-639e-4360-fc5d-6a6dd86c61d7"
      },
      "outputs": [
        {
          "output_type": "display_data",
          "data": {
            "text/plain": [
              "<Figure size 432x288 with 1 Axes>"
            ],
            "image/png": "[encoded data removed]"
          },
          "metadata": {
            "needs_background": "light"
          }
        }
      ],
      "source": [
        "plt.plot(loss_normal.history['loss'])\n",
        "plt.plot(loss_abnormal.history['loss'])\n",
        "plt.legend(['normal','abnormal'])\n",
        "plt.show()"
      ]
    },
    {
      "cell_type": "code",
      "execution_count": null,
      "metadata": {
        "id": "Gta6JhujU1bQ"
      },
      "outputs": [],
      "source": [
        ""
      ]
    }
  ],
  "metadata": {
    "accelerator": "GPU",
    "colab": {
      "collapsed_sections": [
        "JfXXisWL22V0"
      ],
      "name": "AnoGAN.ipynb",
      "provenance": [],
      "include_colab_link": true
    },
    "kernelspec": {
      "display_name": "Python 3",
      "name": "python3"
    },
    "language_info": {
      "name": "python"
    }
  },
  "nbformat": 4,
  "nbformat_minor": 0
}