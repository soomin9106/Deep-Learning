{
  "nbformat": 4,
  "nbformat_minor": 0,
  "metadata": {
    "colab": {
      "name": "DCGAN_AnoGAN.ipynb",
      "provenance": [],
      "collapsed_sections": [
        "JfXXisWL22V0",
        "1-KSbevU28Ly",
        "h2DnWLt-3ec7",
        "gWoexHXR9jM9",
        "F3ENOPjr0EnA"
      ]
    },
    "kernelspec": {
      "name": "python3",
      "display_name": "Python 3"
    },
    "language_info": {
      "name": "python"
    },
    "accelerator": "GPU"
  },
  "cells": [
    {
      "cell_type": "markdown",
      "source": [
        "## MNIST 데이터를 통해 AnoGAN 구현\n",
        "** 하드웨어 가속기를 GPU 로 설정 **\n",
        "\n",
        "코드 참고 \n",
        "\n",
        "\n",
        "DCGAN 구현 파트 : tensorflow 공식 사이트\n",
        "\n",
        "\n",
        "Anomaly Detection 구현 파트 : https://github.com/mullue/anogan-mnist/blob/master/dcgan%2Banogan.ipynb"
      ],
      "metadata": {
        "id": "53iSA74KVQCe"
      }
    },
    {
      "cell_type": "markdown",
      "source": [
        "### Module install & import\n",
        "\n"
      ],
      "metadata": {
        "id": "JfXXisWL22V0"
      }
    },
    {
      "cell_type": "code",
      "source": [
        "pip install -q tensorflow-gpu==2.0.0-rc1"
      ],
      "metadata": {
        "colab": {
          "base_uri": "https://localhost:8080/"
        },
        "id": "Vvi33jcZ2fmi",
        "outputId": "b9e88244-b24c-4233-96df-6d928516ffb9"
      },
      "execution_count": null,
      "outputs": [
        {
          "output_type": "stream",
          "name": "stdout",
          "text": [
            "\u001b[31mERROR: Could not find a version that satisfies the requirement tensorflow-gpu==2.0.0-rc1 (from versions: 1.13.1, 1.13.2, 1.14.0, 1.15.0, 1.15.2, 1.15.3, 1.15.4, 1.15.5, 2.0.0, 2.0.1, 2.0.2, 2.0.3, 2.0.4, 2.1.0, 2.1.1, 2.1.2, 2.1.3, 2.1.4, 2.2.0, 2.2.1, 2.2.2, 2.2.3, 2.3.0, 2.3.1, 2.3.2, 2.3.3, 2.3.4, 2.4.0, 2.4.1, 2.4.2, 2.4.3, 2.4.4, 2.5.0, 2.5.1, 2.5.2, 2.5.3, 2.6.0, 2.6.1, 2.6.2, 2.6.3, 2.7.0rc0, 2.7.0rc1, 2.7.0, 2.7.1, 2.8.0rc0, 2.8.0rc1, 2.8.0)\u001b[0m\n",
            "\u001b[31mERROR: No matching distribution found for tensorflow-gpu==2.0.0-rc1\u001b[0m\n"
          ]
        }
      ]
    },
    {
      "cell_type": "code",
      "source": [
        "import tensorflow as tf"
      ],
      "metadata": {
        "id": "-_z-Wn782o0-"
      },
      "execution_count": null,
      "outputs": []
    },
    {
      "cell_type": "code",
      "source": [
        "tf.__version__"
      ],
      "metadata": {
        "colab": {
          "base_uri": "https://localhost:8080/",
          "height": 36
        },
        "id": "w7cbwRum2s-F",
        "outputId": "764ff7d3-9533-472f-985e-1374d7b3dcb9"
      },
      "execution_count": null,
      "outputs": [
        {
          "output_type": "execute_result",
          "data": {
            "text/plain": [
              "'2.8.0'"
            ],
            "application/vnd.google.colaboratory.intrinsic+json": {
              "type": "string"
            }
          },
          "metadata": {},
          "execution_count": 3
        }
      ]
    },
    {
      "cell_type": "code",
      "source": [
        "pip install -q imageio"
      ],
      "metadata": {
        "id": "Xm9ePTOz2u0j"
      },
      "execution_count": null,
      "outputs": []
    },
    {
      "cell_type": "code",
      "source": [
        "import glob\n",
        "import imageio\n",
        "import matplotlib.pyplot as plt\n",
        "import numpy as np\n",
        "import os\n",
        "import PIL\n",
        "from tensorflow.keras import layers\n",
        "import time\n",
        "\n",
        "from IPython import display"
      ],
      "metadata": {
        "id": "jDM0fewD2xs-"
      },
      "execution_count": null,
      "outputs": []
    },
    {
      "cell_type": "code",
      "source": [
        "from tensorflow.keras.layers import *"
      ],
      "metadata": {
        "id": "lphimT3H38X8"
      },
      "execution_count": null,
      "outputs": []
    },
    {
      "cell_type": "markdown",
      "source": [
        "### Dataset loading and preparing"
      ],
      "metadata": {
        "id": "1-KSbevU28Ly"
      }
    },
    {
      "cell_type": "code",
      "source": [
        "(train_images, train_labels), (_, _) = tf.keras.datasets.mnist.load_data()"
      ],
      "metadata": {
        "colab": {
          "base_uri": "https://localhost:8080/"
        },
        "id": "LO8_Po7A20TI",
        "outputId": "97f8b080-8585-43f5-a68d-6c872494b02c"
      },
      "execution_count": null,
      "outputs": [
        {
          "output_type": "stream",
          "name": "stdout",
          "text": [
            "Downloading data from https://storage.googleapis.com/tensorflow/tf-keras-datasets/mnist.npz\n",
            "11493376/11490434 [==============================] - 0s 0us/step\n",
            "11501568/11490434 [==============================] - 0s 0us/step\n"
          ]
        }
      ]
    },
    {
      "cell_type": "code",
      "source": [
        "train_images = train_images.reshape(train_images.shape[0],28,28,1).astype('float32')"
      ],
      "metadata": {
        "id": "YgRBs5583A-b"
      },
      "execution_count": null,
      "outputs": []
    },
    {
      "cell_type": "code",
      "source": [
        "print(train_images.shape) #이렇게 해주는게 명시적임"
      ],
      "metadata": {
        "colab": {
          "base_uri": "https://localhost:8080/"
        },
        "id": "TGueATCn3Nwt",
        "outputId": "69fc3196-51ad-4372-9dcf-02df1e2adf05"
      },
      "execution_count": null,
      "outputs": [
        {
          "output_type": "stream",
          "name": "stdout",
          "text": [
            "(60000, 28, 28, 1)\n"
          ]
        }
      ]
    },
    {
      "cell_type": "code",
      "source": [
        "train_images = (train_images - 127.5) / 127.5 # 이미지를 [-1, 1]로 정규화합니다."
      ],
      "metadata": {
        "id": "R99fc2m33P3_"
      },
      "execution_count": null,
      "outputs": []
    },
    {
      "cell_type": "code",
      "source": [
        "BUFFER_SIZE = 60000\n",
        "BATCH_SIZE = 256\n",
        "\n",
        "# 데이터 배치를 만들고 섞습니다.\n",
        "train_dataset = tf.data.Dataset.from_tensor_slices(train_images).shuffle(BUFFER_SIZE).batch(BATCH_SIZE)"
      ],
      "metadata": {
        "id": "3-co9kKr3SjE"
      },
      "execution_count": null,
      "outputs": []
    },
    {
      "cell_type": "code",
      "source": [
        "print(train_dataset)"
      ],
      "metadata": {
        "colab": {
          "base_uri": "https://localhost:8080/"
        },
        "id": "GBFxelyB3aaa",
        "outputId": "70058957-35d3-467c-ddce-0d2f2f665b8f"
      },
      "execution_count": null,
      "outputs": [
        {
          "output_type": "stream",
          "name": "stdout",
          "text": [
            "<BatchDataset element_spec=TensorSpec(shape=(None, 28, 28, 1), dtype=tf.float32, name=None)>\n"
          ]
        }
      ]
    },
    {
      "cell_type": "markdown",
      "source": [
        "### Model Part"
      ],
      "metadata": {
        "id": "h2DnWLt-3ec7"
      }
    },
    {
      "cell_type": "markdown",
      "source": [
        "#### generator\n",
        "생성자는 시드값 (seed; 랜덤한 잡음)으로부터 이미지를 생성하기 위해, tf.keras.layers.Conv2DTranspose (업샘플링) 층을 이용합니다. 처음 Dense층은 이 시드값을 인풋으로 받습니다. 그 다음 원하는 사이즈 28x28x1의 이미지가 나오도록 업샘플링을 여러번 합니다. tanh를 사용하는 마지막 층을 제외한 나머지 각 층마다 활성함수로 tf.keras.layers.LeakyReLU을 사용하고 있음을 주목합시다."
      ],
      "metadata": {
        "id": "r2JKaLhx3gw5"
      }
    },
    {
      "cell_type": "code",
      "source": [
        "def make_generator_model():\n",
        "    model = tf.keras.Sequential()\n",
        "    model.add(layers.Dense(7*7*256, use_bias=False, input_shape=(100,)))\n",
        "    model.add(layers.BatchNormalization())\n",
        "    model.add(layers.LeakyReLU())\n",
        "\n",
        "    model.add(layers.Reshape((7, 7, 256)))\n",
        "    assert model.output_shape == (None, 7, 7, 256) # 주목: 배치사이즈로 None이 주어집니다.\n",
        "\n",
        "    model.add(layers.Conv2DTranspose(128, (5, 5), strides=(1, 1), padding='same', use_bias=False))\n",
        "    assert model.output_shape == (None, 7, 7, 128)\n",
        "    model.add(layers.BatchNormalization())\n",
        "    model.add(layers.LeakyReLU())\n",
        "\n",
        "    model.add(layers.Conv2DTranspose(64, (5, 5), strides=(2, 2), padding='same', use_bias=False))\n",
        "    assert model.output_shape == (None, 14, 14, 64)\n",
        "    model.add(layers.BatchNormalization())\n",
        "    model.add(layers.LeakyReLU())\n",
        "\n",
        "    model.add(layers.Conv2DTranspose(1, (5, 5), strides=(2, 2), padding='same', use_bias=False, activation='tanh'))\n",
        "    assert model.output_shape == (None, 28, 28, 1)\n",
        "\n",
        "    return model"
      ],
      "metadata": {
        "id": "YXHUXPcM3cN7"
      },
      "execution_count": null,
      "outputs": []
    },
    {
      "cell_type": "markdown",
      "source": [
        "아직 훈련되지 않은 생성자를 사용하여 이미지 생성해보기"
      ],
      "metadata": {
        "id": "FfajbVoo6U2H"
      }
    },
    {
      "cell_type": "code",
      "source": [
        "generator = make_generator_model()\n",
        "\n",
        "noise = tf.random.normal([1,100])\n",
        "generated_image = generator(noise, training = False)\n",
        "\n",
        "plt.imshow(generated_image[0,:,:,0], cmap = 'gray')"
      ],
      "metadata": {
        "colab": {
          "base_uri": "https://localhost:8080/",
          "height": 284
        },
        "id": "QkoJmHHO6Ueg",
        "outputId": "95c8c80f-da07-46e0-b917-0556cce89190"
      },
      "execution_count": null,
      "outputs": [
        {
          "output_type": "execute_result",
          "data": {
            "text/plain": [
              "<matplotlib.image.AxesImage at 0x7f8b8e0f6210>"
            ]
          },
          "metadata": {},
          "execution_count": 14
        },
        {
          "output_type": "display_data",
          "data": {
            "text/plain": [
              "<Figure size 432x288 with 1 Axes>"
            ],
            "image/png": "[encoded data removed]"
          },
          "metadata": {
            "needs_background": "light"
          }
        }
      ]
    },
    {
      "cell_type": "code",
      "source": [
        "print(generated_image.shape)"
      ],
      "metadata": {
        "colab": {
          "base_uri": "https://localhost:8080/"
        },
        "id": "3FTuGNmD6SM1",
        "outputId": "2eed276f-b467-4e4b-f957-7425db2aa39f"
      },
      "execution_count": null,
      "outputs": [
        {
          "output_type": "stream",
          "name": "stdout",
          "text": [
            "(1, 28, 28, 1)\n"
          ]
        }
      ]
    },
    {
      "cell_type": "markdown",
      "source": [
        "#### Discriminator\n",
        "감별자는 합성곱 신경망(Convolutional Neural Network, CNN) 기반의 이미지 분류기입니다."
      ],
      "metadata": {
        "id": "fof7sQ0P63bs"
      }
    },
    {
      "cell_type": "code",
      "source": [
        "def make_discriminator_model():\n",
        "  model = tf.keras.Sequential()\n",
        "  model.add(layers.Conv2D(64,(5,5),strides=(2,2), padding='same', input_shape=[28,28,1]))\n",
        "\n",
        "  model.add(layers.LeakyReLU(0.2))\n",
        "  model.add(layers.Dropout(0.3))\n",
        "\n",
        "  model.add(layers.Conv2D(128, (5,5), strides = (2,2), padding='same'))\n",
        "  model.add(layers.LeakyReLU(0.2))\n",
        "  model.add(layers.Dropout(0.3))\n",
        "\n",
        "  model.add(layers.Flatten())\n",
        "  model.add(layers.Dense(1))\n",
        "\n",
        "  return model"
      ],
      "metadata": {
        "id": "qkXrG2xe6xdV"
      },
      "execution_count": null,
      "outputs": []
    },
    {
      "cell_type": "markdown",
      "source": [
        "(아직까지 훈련이 되지 않은) 감별자를 사용하여, 생성된 이미지가 진짜인지 가짜인지 판별합니다. 모델은 진짜 이미지에는 양수의 값 (positive values)을, 가짜 이미지에는 음수의 값 (negative values)을 출력하도록 훈련되어집니다."
      ],
      "metadata": {
        "id": "NpsxcNm4700y"
      }
    },
    {
      "cell_type": "code",
      "source": [
        "discriminator = make_discriminator_model()\n",
        "desicion = discriminator(generated_image)\n",
        "print(desicion)"
      ],
      "metadata": {
        "colab": {
          "base_uri": "https://localhost:8080/"
        },
        "id": "S5qNHTIT71Or",
        "outputId": "87ac0b00-9bef-4854-a49b-23569d98761f"
      },
      "execution_count": null,
      "outputs": [
        {
          "output_type": "stream",
          "name": "stdout",
          "text": [
            "tf.Tensor([[-0.00064953]], shape=(1, 1), dtype=float32)\n"
          ]
        }
      ]
    },
    {
      "cell_type": "markdown",
      "source": [
        "#### loss function & optimizer"
      ],
      "metadata": {
        "id": "vC-NkSaP8AF_"
      }
    },
    {
      "cell_type": "code",
      "source": [
        "cross_entropy = tf.keras.losses.BinaryCrossentropy(from_logits = True)"
      ],
      "metadata": {
        "id": "YEZNboPR7-KU"
      },
      "execution_count": null,
      "outputs": []
    },
    {
      "cell_type": "markdown",
      "source": [
        "#### 감별자 손실 함수\n",
        "이 메서드는 감별자가 가짜 이미지에서 얼마나 진짜 이미지를 잘 판별하는지 수치화합니다. 진짜 이미지에 대한 감별자의 예측과 1로 이루어진 행렬을 비교하고, 가짜 (생성된) 이미지에 대한 감별자의 예측과 0으로 이루어진 행렬을 비교합니다."
      ],
      "metadata": {
        "id": "6ppMd98P8M6w"
      }
    },
    {
      "cell_type": "code",
      "source": [
        "def discriminator_loss(real_output, fake_output):\n",
        "  real_loss = cross_entropy(tf.ones_like(real_output), real_output)\n",
        "  fake_loss = cross_entropy(tf.zeros_like(fake_output), fake_output)\n",
        "  total_loss = real_loss + fake_loss\n",
        "  return total_loss"
      ],
      "metadata": {
        "id": "U0M4Cddo8LMo"
      },
      "execution_count": null,
      "outputs": []
    },
    {
      "cell_type": "markdown",
      "source": [
        "#### 생성자 손실함수\n",
        "생성자의 손실함수는 감별자를 얼마나 잘 속였는지에 대해 수치화를 합니다. 직관적으로 생성자가 원활히 수행되고 있다면, 감별자는 가짜 이미지를 진짜 (또는 1)로 분류를 할 것입니다. 여기서 우리는 생성된 이미지에 대한 감별자의 결정을 1로 이루어진 행렬과 비교를 할 것입니다."
      ],
      "metadata": {
        "id": "fpnaTJka8-cY"
      }
    },
    {
      "cell_type": "code",
      "source": [
        "def generator_loss(fake_output):\n",
        "  return cross_entropy(tf.ones_like(fake_output), fake_output)"
      ],
      "metadata": {
        "id": "mwEIw8pg85b4"
      },
      "execution_count": null,
      "outputs": []
    },
    {
      "cell_type": "markdown",
      "source": [
        "#### optimizer of G and D"
      ],
      "metadata": {
        "id": "77RXCNxc9Rn9"
      }
    },
    {
      "cell_type": "code",
      "source": [
        "generator_optimizer = tf.keras.optimizers.Adam(1e-4)\n",
        "discriminator_optimizer = tf.keras.optimizers.Adam(1e-4)"
      ],
      "metadata": {
        "id": "-xdZnwqn9NQO"
      },
      "execution_count": null,
      "outputs": []
    },
    {
      "cell_type": "markdown",
      "source": [
        "### Train Part"
      ],
      "metadata": {
        "id": "gWoexHXR9jM9"
      }
    },
    {
      "cell_type": "markdown",
      "source": [
        "#### save check point"
      ],
      "metadata": {
        "id": "hjDmifcZUC9f"
      }
    },
    {
      "cell_type": "code",
      "source": [
        "#checkpoint_dir = '/content'\n",
        "#checkpoint_prefix = os.path.join(checkpoint_dir, \"ckpt\")\n",
        "#checkpoint = tf.train.Checkpoint(generator_optimizer=generator_optimizer,\n",
        "#                                discriminator_optimizer=discriminator_optimizer,\n",
        "#                                generator=generator,\n",
        "#                                discriminator=discriminator)\n",
        "\n",
        "\n",
        "def save_models(epoch, discriminator, generator, path='/content'):\n",
        "    discriminator.save_weights('{}/d-{}.ckpt'.format(path,epoch))\n",
        "    generator.save_weights('{}/g-{}.ckpt'.format(path,epoch))"
      ],
      "metadata": {
        "id": "eR0ewYs2UFuj"
      },
      "execution_count": null,
      "outputs": []
    },
    {
      "cell_type": "code",
      "source": [
        "EPOCHS = 50\n",
        "noise_dim = 100\n",
        "num_examples_to_generate = 16\n",
        "\n",
        "# 이 시드를 시간이 지나도 재활용하겠습니다. \n",
        "# (GIF 애니메이션에서 진전 내용을 시각화하는데 쉽기 때문입니다.) \n",
        "seed = tf.random.normal([num_examples_to_generate, noise_dim])"
      ],
      "metadata": {
        "id": "pfDAPxAI9k3n"
      },
      "execution_count": null,
      "outputs": []
    },
    {
      "cell_type": "markdown",
      "source": [
        "훈련 루프는 생성자가 입력으로 랜덤시드를 받는 것으로부터 시작됩니다. 그 시드값을 사용하여 이미지를 생성합니다. 감별자를 사용하여 (훈련 세트에서 갖고온) 진짜 이미지와 (생성자가 생성해낸) 가짜이미지를 분류합니다. 각 모델의 손실을 계산하고, 그래디언트 (gradients)를 사용해 생성자와 감별자를 업데이트합니다."
      ],
      "metadata": {
        "id": "1m5QuUpI99aC"
      }
    },
    {
      "cell_type": "code",
      "source": [
        "# `tf.function`이 어떻게 사용되는지 주목해 주세요.\n",
        "# 이 데코레이터는 함수를 \"컴파일\"합니다.\n",
        "@tf.function\n",
        "def train_step(images):\n",
        "    noise = tf.random.normal([BATCH_SIZE, noise_dim])\n",
        "\n",
        "    with tf.GradientTape() as gen_tape, tf.GradientTape() as disc_tape:\n",
        "      generated_images = generator(noise, training=True)\n",
        "\n",
        "      real_output = discriminator(images, training=True)\n",
        "      fake_output = discriminator(generated_images, training=True)\n",
        "\n",
        "      gen_loss = generator_loss(fake_output)\n",
        "      disc_loss = discriminator_loss(real_output, fake_output)\n",
        "\n",
        "    gradients_of_generator = gen_tape.gradient(gen_loss, generator.trainable_variables)\n",
        "    gradients_of_discriminator = disc_tape.gradient(disc_loss, discriminator.trainable_variables)\n",
        "\n",
        "    generator_optimizer.apply_gradients(zip(gradients_of_generator, generator.trainable_variables))\n",
        "    discriminator_optimizer.apply_gradients(zip(gradients_of_discriminator, discriminator.trainable_variables))"
      ],
      "metadata": {
        "id": "5sJGB5Vf9mt7"
      },
      "execution_count": null,
      "outputs": []
    },
    {
      "cell_type": "code",
      "source": [
        "def train(dataset, epochs):\n",
        "  for epoch in range(epochs):\n",
        "    start = time.time()\n",
        "\n",
        "    for image_batch in dataset:\n",
        "      train_step(image_batch)\n",
        "\n",
        "    # GIF를 위한 이미지를 바로 생성합니다.\n",
        "    display.clear_output(wait=True)\n",
        "    generate_and_save_images(generator,\n",
        "                             epoch + 1,\n",
        "                             seed)\n",
        "\n",
        "    # 15 에포크가 지날 때마다 모델을 저장합니다.\n",
        "    #if (epoch + 1) % 15 == 0:\n",
        "    #  checkpoint.save(file_prefix = checkpoint_prefix)\n",
        "\n",
        "    # print (' 에포크 {} 에서 걸린 시간은 {} 초 입니다'.format(epoch +1, time.time()-start))\n",
        "    print ('Time for epoch {} is {} sec'.format(epoch + 1, time.time()-start))\n",
        "\n",
        "  # 마지막 에포크가 끝난 후 생성합니다.\n",
        "  display.clear_output(wait=True)\n",
        "  generate_and_save_images(generator,\n",
        "                           epochs,\n",
        "                           seed)\n",
        "  # save weights\n",
        "  save_models(epochs, discriminator, generator, '/content')"
      ],
      "metadata": {
        "id": "MzQ_8cbO_k1A"
      },
      "execution_count": null,
      "outputs": []
    },
    {
      "cell_type": "markdown",
      "source": [
        "#### 이미지 생성 및 저장"
      ],
      "metadata": {
        "id": "_-4NXYhuATzK"
      }
    },
    {
      "cell_type": "code",
      "source": [
        "def generate_and_save_images(model, epoch, test_input):\n",
        "  # `training`이 False로 맞춰진 것을 주목하세요.\n",
        "  # 이렇게 하면 (배치정규화를 포함하여) 모든 층들이 추론 모드로 실행됩니다. \n",
        "  predictions = model(test_input, training=False)\n",
        "\n",
        "  fig = plt.figure(figsize=(4,4))\n",
        "\n",
        "  for i in range(predictions.shape[0]):\n",
        "      plt.subplot(4, 4, i+1)\n",
        "      plt.imshow(predictions[i, :, :, 0] * 127.5 + 127.5, cmap='gray')\n",
        "      plt.axis('off')\n",
        "\n",
        "  plt.savefig('image_at_epoch_{:04d}.png'.format(epoch))\n",
        "  plt.show()"
      ],
      "metadata": {
        "id": "DLy5hdIoAS0B"
      },
      "execution_count": null,
      "outputs": []
    },
    {
      "cell_type": "markdown",
      "source": [
        "#### model training\n",
        "*** time consuming ***"
      ],
      "metadata": {
        "id": "YNRvK9aOAdFZ"
      }
    },
    {
      "cell_type": "code",
      "source": [
        "%%time\n",
        "train(train_dataset, EPOCHS)"
      ],
      "metadata": {
        "id": "gEmdO9diAkht",
        "colab": {
          "base_uri": "https://localhost:8080/",
          "height": 285
        },
        "outputId": "81848ff5-3eb2-4083-f0e0-90a26add839a"
      },
      "execution_count": null,
      "outputs": [
        {
          "output_type": "display_data",
          "data": {
            "text/plain": [
              "<Figure size 288x288 with 16 Axes>"
            ],
            "image/png": "[encoded data removed]"
          },
          "metadata": {
            "needs_background": "light"
          }
        },
        {
          "output_type": "stream",
          "name": "stdout",
          "text": [
            "CPU times: user 5min, sys: 37.4 s, total: 5min 37s\n",
            "Wall time: 22min 38s\n"
          ]
        }
      ]
    },
    {
      "cell_type": "markdown",
      "source": [
        "### Anomaly Detection Part"
      ],
      "metadata": {
        "id": "F3ENOPjr0EnA"
      }
    },
    {
      "cell_type": "markdown",
      "source": [
        "#### AnoGAN 생성\n",
        "AnoGAN 네트워크를 생성합니다. AnoGAN 네트워크의 정의와 학습은 다음 단계를 거칩니다.\n",
        "\n",
        "\n",
        "\n",
        "(1) size 100의 임의의 z를 입력받습니다.\n",
        "\n",
        "(2) 입력된 z는 Dense layer를 지나 generator에 입력하기 위한 latent vector를 생성합니다.\n",
        "\n",
        "(3) latent vector는 fix된 generator를 거쳐 임의의 이미지를 생성합니다.\n",
        "\n",
        "(4) 3)의 결과를 입력으로 하여 fix된 Discriminnator를 거쳐 Real/Fake 판단을 위한 feature vector를 생성합니다.\n",
        "\n",
        "(5) normal/abnormal 판단을 위한 이미지를 이용하여 3), 4)에 대한 Ground truth 값을 생성합니다. (이미지 자체는 3)의 ground truth 역할을 하고, 해당 이미지로부터 Discriminator 연산을 통해 생성한 feature vector는 4)에 대한 ground truth가 됩니다.)\n",
        "\n",
        "(6) 생성된 (a), (b) 값을 ground truth와 비교하여 2)의 Dense layer를 학습합니다.\n",
        "\n",
        "(7) 학습과정에서 사용했던 데이터(정상데이터)일 수록 학습이 더 잘 될 것입니다. 이런 원리로 6) training 작업 loss 자체가 abnoaly score 역할을 할 수 있습니다.\n",
        "\n",
        "AnoGAN 생성시 이전 단계에서 학습된 Generator와 Discriminator 네트워크와 Weight를 로드하여 사용합니다. 아래에서 호출하고 있는 make_discriminator_model()와 make_generator_model()는 앞서 DCGAN학습단계에서 생성한 동일한 함수입니다."
      ],
      "metadata": {
        "id": "SHWTSJCB1qkl"
      }
    },
    {
      "cell_type": "code",
      "source": [
        "#이상 감지 데이터 불러오기\n",
        "!pip install emnist"
      ],
      "metadata": {
        "colab": {
          "base_uri": "https://localhost:8080/"
        },
        "id": "kWLfxBJySdaD",
        "outputId": "8cd7cb7d-8d20-4bc8-f2b7-ea9fd0067b4a"
      },
      "execution_count": null,
      "outputs": [
        {
          "output_type": "stream",
          "name": "stdout",
          "text": [
            "Collecting emnist\n",
            "  Downloading emnist-0.0-py3-none-any.whl (7.3 kB)\n",
            "Requirement already satisfied: numpy in /usr/local/lib/python3.7/dist-packages (from emnist) (1.21.5)\n",
            "Requirement already satisfied: tqdm in /usr/local/lib/python3.7/dist-packages (from emnist) (4.63.0)\n",
            "Requirement already satisfied: requests in /usr/local/lib/python3.7/dist-packages (from emnist) (2.23.0)\n",
            "Requirement already satisfied: certifi>=2017.4.17 in /usr/local/lib/python3.7/dist-packages (from requests->emnist) (2021.10.8)\n",
            "Requirement already satisfied: idna<3,>=2.5 in /usr/local/lib/python3.7/dist-packages (from requests->emnist) (2.10)\n",
            "Requirement already satisfied: chardet<4,>=3.0.2 in /usr/local/lib/python3.7/dist-packages (from requests->emnist) (3.0.4)\n",
            "Requirement already satisfied: urllib3!=1.25.0,!=1.25.1,<1.26,>=1.21.1 in /usr/local/lib/python3.7/dist-packages (from requests->emnist) (1.24.3)\n",
            "Installing collected packages: emnist\n",
            "Successfully installed emnist-0.0\n"
          ]
        }
      ]
    },
    {
      "cell_type": "code",
      "source": [
        "from emnist import list_datasets\n",
        "list_datasets()"
      ],
      "metadata": {
        "colab": {
          "base_uri": "https://localhost:8080/"
        },
        "id": "7Ka_kXLVSjUD",
        "outputId": "14172d82-552b-437c-a74a-aba06454e41e"
      },
      "execution_count": null,
      "outputs": [
        {
          "output_type": "stream",
          "name": "stderr",
          "text": [
            "Downloading emnist.zip: 536MB [00:14, 39.3MB/s]\n"
          ]
        },
        {
          "output_type": "execute_result",
          "data": {
            "text/plain": [
              "['balanced', 'byclass', 'bymerge', 'digits', 'letters', 'mnist']"
            ]
          },
          "metadata": {},
          "execution_count": 36
        }
      ]
    },
    {
      "cell_type": "code",
      "source": [
        "from emnist import extract_test_samples\n",
        "images, labels = extract_test_samples('letters')\n",
        "images.shape"
      ],
      "metadata": {
        "colab": {
          "base_uri": "https://localhost:8080/"
        },
        "id": "tEfgZgxTSoTZ",
        "outputId": "7d49be1e-da21-4886-ddb9-7265cdf46ed4"
      },
      "execution_count": null,
      "outputs": [
        {
          "output_type": "execute_result",
          "data": {
            "text/plain": [
              "(20800, 28, 28)"
            ]
          },
          "metadata": {},
          "execution_count": 37
        }
      ]
    },
    {
      "cell_type": "code",
      "source": [
        "#Discriminator 로부터 feature 를 도출하는 함수\n",
        "from tensorflow.keras.models import Model\n",
        "\n",
        "def feature_extractor(img_shape=(28,28,1)):\n",
        "    d = make_discriminator_model()\n",
        "    d.load_weights('/content/d-50.ckpt') #discriminator model weigth 저장된 파일\n",
        "    intermidiate_model = Model(inputs=d.layers[0].input, outputs=d.layers[-6].output)\n",
        "    intermidiate_model.compile(loss='binary_crossentropy', optimizer='adam')\n",
        "    return intermidiate_model"
      ],
      "metadata": {
        "id": "jnFRWl500Iza"
      },
      "execution_count": null,
      "outputs": []
    },
    {
      "cell_type": "code",
      "source": [
        "#임의의 z로부터 latent vector를 생성하고 Generator와 앞서 feature_extractor를 호출합니다.\n",
        "from tensorflow.keras.layers import Layer, Input, Dense, Flatten\n",
        "\n",
        "def gne_anogan(loss, latent_dim = 100, channels = 1, img_shape=(28,28,1)):\n",
        "  g = make_generator_model()\n",
        "  g.load_weights('/content/g-50.ckpt')\n",
        "  g.trainable = False\n",
        "  intermidiate_model = feature_extractor(img_shape)\n",
        "  intermidiate_model.trainable = False\n",
        "\n",
        "  z = Input(shape=(100,))\n",
        "  gInput = Dense((100))(z)\n",
        "  G_out = g(gInput)\n",
        "  D_out = intermidiate_model(G_out)    \n",
        "  model = Model(inputs=z, outputs=[G_out, D_out])\n",
        "  model.compile(loss=sum_of_residual, loss_weights= [0.9, 0.1], optimizer='adam')\n",
        "\n",
        "  return model"
      ],
      "metadata": {
        "id": "NXTiw_eF2jjt"
      },
      "execution_count": null,
      "outputs": []
    },
    {
      "cell_type": "code",
      "source": [
        "def sum_of_residual(y_true, y_pred):\n",
        "    return tf.reduce_sum(abs(y_true - y_pred))"
      ],
      "metadata": {
        "id": "pRbjxELi4Cpr"
      },
      "execution_count": null,
      "outputs": []
    },
    {
      "cell_type": "code",
      "source": [
        "model = gne_anogan(loss=sum_of_residual)\n",
        "model.summary()"
      ],
      "metadata": {
        "id": "DjwR8_ro4Djt",
        "colab": {
          "base_uri": "https://localhost:8080/"
        },
        "outputId": "53f71aaa-6c85-4501-d11f-f3f6b7fa532a"
      },
      "execution_count": null,
      "outputs": [
        {
          "output_type": "stream",
          "name": "stdout",
          "text": [
            "Model: \"model_1\"\n",
            "_________________________________________________________________\n",
            " Layer (type)                Output Shape              Param #   \n",
            "=================================================================\n",
            " input_1 (InputLayer)        [(None, 100)]             0         \n",
            "                                                                 \n",
            " dense_5 (Dense)             (None, 100)               10100     \n",
            "                                                                 \n",
            " sequential_3 (Sequential)   (None, 28, 28, 1)         2330944   \n",
            "                                                                 \n",
            " model (Functional)          (None, 14, 14, 64)        1664      \n",
            "                                                                 \n",
            "=================================================================\n",
            "Total params: 2,342,708\n",
            "Trainable params: 10,100\n",
            "Non-trainable params: 2,332,608\n",
            "_________________________________________________________________\n"
          ]
        }
      ]
    },
    {
      "cell_type": "markdown",
      "source": [
        "#### 정상 데이터 테스팅"
      ],
      "metadata": {
        "id": "a8FoWWpES2iA"
      }
    },
    {
      "cell_type": "code",
      "source": [
        "nimg = train_images[1].reshape(28,28)/ 127.5 - 1.\n",
        "plt.figure(figsize=(4,4))\n",
        "plt.imshow(nimg)"
      ],
      "metadata": {
        "colab": {
          "base_uri": "https://localhost:8080/",
          "height": 284
        },
        "id": "N6yEaX4QSqlS",
        "outputId": "1b2fae47-6acd-4046-dff8-d535df87855c"
      },
      "execution_count": null,
      "outputs": [
        {
          "output_type": "execute_result",
          "data": {
            "text/plain": [
              "<matplotlib.image.AxesImage at 0x7f8b8afa2a50>"
            ]
          },
          "metadata": {},
          "execution_count": 39
        },
        {
          "output_type": "display_data",
          "data": {
            "text/plain": [
              "<Figure size 288x288 with 1 Axes>"
            ],
            "image/png": "[encoded data removed]"
          },
          "metadata": {
            "needs_background": "light"
          }
        }
      ]
    },
    {
      "cell_type": "code",
      "source": [
        "%%time\n",
        "z = np.random.uniform(0, 1, size=(1, 100))\n",
        "intermidiate_model = feature_extractor(img_shape=(28,28,1))\n",
        "\n",
        "# ground truth\n",
        "x = nimg.reshape(1,28,28,1)\n",
        "d_x = intermidiate_model.predict(x)\n",
        "\n",
        "# ground truth를 예측하는 z 학습\n",
        "loss = model.fit(z, [x, d_x], epochs=500, verbose=0)"
      ],
      "metadata": {
        "colab": {
          "base_uri": "https://localhost:8080/"
        },
        "id": "uEJasF0wS6KR",
        "outputId": "ce6a8f27-2fc5-44b2-afe6-2dfa0779a0f5"
      },
      "execution_count": null,
      "outputs": [
        {
          "output_type": "stream",
          "name": "stdout",
          "text": [
            "CPU times: user 6.87 s, sys: 372 ms, total: 7.24 s\n",
            "Wall time: 6.28 s\n"
          ]
        }
      ]
    },
    {
      "cell_type": "markdown",
      "source": [
        "학습을 통해 best latent vector를 추정한 후, 해당 latent vector를 이용하여 생성한 생성 이미지입니다. (500 epoch을 거쳐 원본과 유사한 결과를 생성할 수 있는 z를 찾았고 그 z를 이용하여 생성한 이미지입니다.) 원본 이미지와 유사한 이미지를 생성하고 있습니다."
      ],
      "metadata": {
        "id": "6hkSQ9oQTMmE"
      }
    },
    {
      "cell_type": "code",
      "source": [
        "o1, o2 = model.predict(z)\n",
        "plt.figure(figsize=(4,4))\n",
        "plt.imshow(o1.reshape(28,28))"
      ],
      "metadata": {
        "colab": {
          "base_uri": "https://localhost:8080/",
          "height": 284
        },
        "id": "QoV2qJ2yTM8t",
        "outputId": "61b3c68b-3a86-40d3-83f5-8af9f96254ed"
      },
      "execution_count": null,
      "outputs": [
        {
          "output_type": "execute_result",
          "data": {
            "text/plain": [
              "<matplotlib.image.AxesImage at 0x7f8b8c70d810>"
            ]
          },
          "metadata": {},
          "execution_count": 41
        },
        {
          "output_type": "display_data",
          "data": {
            "text/plain": [
              "<Figure size 288x288 with 1 Axes>"
            ],
            "image/png": "[encoded data removed]"
          },
          "metadata": {
            "needs_background": "light"
          }
        }
      ]
    },
    {
      "cell_type": "code",
      "source": [
        "loss.history['loss'][-1]"
      ],
      "metadata": {
        "colab": {
          "base_uri": "https://localhost:8080/"
        },
        "id": "oe69_VjiTT5E",
        "outputId": "e9cad414-22f5-4b26-d2a7-17fc8fb4a212"
      },
      "execution_count": null,
      "outputs": [
        {
          "output_type": "execute_result",
          "data": {
            "text/plain": [
              "30.23111343383789"
            ]
          },
          "metadata": {},
          "execution_count": 42
        }
      ]
    },
    {
      "cell_type": "code",
      "source": [
        "plt.figure(figsize=(4,4))\n",
        "plt.imshow(nimg - o1.reshape(28,28))"
      ],
      "metadata": {
        "colab": {
          "base_uri": "https://localhost:8080/",
          "height": 284
        },
        "id": "nXhNAb3bTWhD",
        "outputId": "6c74885b-8dbe-47b0-ebdf-3852c84cdd45"
      },
      "execution_count": null,
      "outputs": [
        {
          "output_type": "execute_result",
          "data": {
            "text/plain": [
              "<matplotlib.image.AxesImage at 0x7f8b8b85bb50>"
            ]
          },
          "metadata": {},
          "execution_count": 43
        },
        {
          "output_type": "display_data",
          "data": {
            "text/plain": [
              "<Figure size 288x288 with 1 Axes>"
            ],
            "image/png": "[encoded data removed]"
          },
          "metadata": {
            "needs_background": "light"
          }
        }
      ]
    },
    {
      "cell_type": "markdown",
      "source": [
        "#### 이상 데이터 테스트\n",
        "\n",
        "EMNIST에서 임의의 데이터를 선정하여 abnomaly score가 정상에 비해 높게 나오는지 확인해 보겠습니다."
      ],
      "metadata": {
        "id": "7UU5XrP_TbyM"
      }
    },
    {
      "cell_type": "code",
      "source": [
        "aimg = images[2].reshape(28,28)/ 127.5 - 1.\n",
        "plt.figure(figsize=(4,4))\n",
        "plt.imshow(aimg)"
      ],
      "metadata": {
        "colab": {
          "base_uri": "https://localhost:8080/",
          "height": 284
        },
        "id": "B0zR_XIpTZAF",
        "outputId": "87e1c7c3-bb84-4ae7-86cc-0dabae6ae31c"
      },
      "execution_count": null,
      "outputs": [
        {
          "output_type": "execute_result",
          "data": {
            "text/plain": [
              "<matplotlib.image.AxesImage at 0x7f8b8c3281d0>"
            ]
          },
          "metadata": {},
          "execution_count": 44
        },
        {
          "output_type": "display_data",
          "data": {
            "text/plain": [
              "<Figure size 288x288 with 1 Axes>"
            ],
            "image/png": "[encoded data removed]"
          },
          "metadata": {
            "needs_background": "light"
          }
        }
      ]
    },
    {
      "cell_type": "code",
      "source": [
        "%%time\n",
        "z = np.random.uniform(0, 1, size=(1, 100))\n",
        "intermidiate_model = feature_extractor(img_shape=(28,28,1))\n",
        "\n",
        "# ground truth\n",
        "x = aimg.reshape(1, 28, 28, 1)\n",
        "d_x = intermidiate_model.predict(x)\n",
        "\n",
        "# ground truth를 예측하는 z 학습\n",
        "loss_a = model.fit(z, [x, d_x], epochs=500, verbose=0)"
      ],
      "metadata": {
        "colab": {
          "base_uri": "https://localhost:8080/"
        },
        "id": "cp84y2c2TiSL",
        "outputId": "121b7eb4-1b8f-4029-8310-57613cdc4488"
      },
      "execution_count": null,
      "outputs": [
        {
          "output_type": "stream",
          "name": "stdout",
          "text": [
            "CPU times: user 6.56 s, sys: 215 ms, total: 6.78 s\n",
            "Wall time: 6.54 s\n"
          ]
        }
      ]
    },
    {
      "cell_type": "code",
      "source": [
        "oa1, oa2 = model.predict(z)\n",
        "plt.figure(figsize=(4,4))\n",
        "plt.imshow(oa1.reshape(28,28))"
      ],
      "metadata": {
        "colab": {
          "base_uri": "https://localhost:8080/",
          "height": 284
        },
        "id": "E3UKhABVTjmV",
        "outputId": "a862cfab-bd80-4e92-9c30-5f3b17775038"
      },
      "execution_count": null,
      "outputs": [
        {
          "output_type": "execute_result",
          "data": {
            "text/plain": [
              "<matplotlib.image.AxesImage at 0x7f8b8b700050>"
            ]
          },
          "metadata": {},
          "execution_count": 46
        },
        {
          "output_type": "display_data",
          "data": {
            "text/plain": [
              "<Figure size 288x288 with 1 Axes>"
            ],
            "image/png": "[encoded data removed]"
          },
          "metadata": {
            "needs_background": "light"
          }
        }
      ]
    },
    {
      "cell_type": "code",
      "source": [
        "loss_a.history['loss'][-1]"
      ],
      "metadata": {
        "colab": {
          "base_uri": "https://localhost:8080/"
        },
        "id": "CJvbNV_HTpga",
        "outputId": "7b4ceccf-f5fa-4180-8ce6-829d9ae84dd1"
      },
      "execution_count": null,
      "outputs": [
        {
          "output_type": "execute_result",
          "data": {
            "text/plain": [
              "83.40980529785156"
            ]
          },
          "metadata": {},
          "execution_count": 47
        }
      ]
    },
    {
      "cell_type": "markdown",
      "source": [
        "정상 데이터에 비해 loss 값이 크게 나타남"
      ],
      "metadata": {
        "id": "hmpi5rDTTtg5"
      }
    },
    {
      "cell_type": "markdown",
      "source": [
        "다음은 residual에 대한 시각적 표현입니다. 육안을 통해서도 보다 많은 픽셀이 남은 것을 확인할 수 있다. (residual값이 클 수록 어두운 색상입니다.)"
      ],
      "metadata": {
        "id": "tJl3G_oVTy7B"
      }
    },
    {
      "cell_type": "code",
      "source": [
        "plt.figure(figsize=(4,4))\n",
        "plt.imshow(aimg - oa1.reshape(28,28))"
      ],
      "metadata": {
        "colab": {
          "base_uri": "https://localhost:8080/",
          "height": 284
        },
        "id": "T2CNGhRtTrlM",
        "outputId": "d9f1e51c-a4f7-4275-ac47-113ebc097773"
      },
      "execution_count": null,
      "outputs": [
        {
          "output_type": "execute_result",
          "data": {
            "text/plain": [
              "<matplotlib.image.AxesImage at 0x7f8b8bcc6290>"
            ]
          },
          "metadata": {},
          "execution_count": 48
        },
        {
          "output_type": "display_data",
          "data": {
            "text/plain": [
              "<Figure size 288x288 with 1 Axes>"
            ],
            "image/png": "[encoded data removed]"
          },
          "metadata": {
            "needs_background": "light"
          }
        }
      ]
    },
    {
      "cell_type": "markdown",
      "source": [
        "#### 결과 검증\n",
        "\n",
        "각 100건의 정상과 비정상 이미지를 이용하여 Anobal loss를 비교해봅니다.\n",
        "\n",
        "우선 임의의 100개의 MNIST 데이터를 정상 이미지로 이용하겠습니다."
      ],
      "metadata": {
        "id": "H1Rv3J4wT2RZ"
      }
    },
    {
      "cell_type": "code",
      "source": [
        "nimg_multi = train_images[:100]"
      ],
      "metadata": {
        "id": "J7S-7Qr4UEeT"
      },
      "execution_count": null,
      "outputs": []
    },
    {
      "cell_type": "code",
      "source": [
        "%%time\n",
        "z = np.random.uniform(0, 1, size=(100, 100))\n",
        "intermidiate_model = feature_extractor(img_shape=(28,28,1))\n",
        "\n",
        "# ground truth\n",
        "x = nimg_multi.reshape(100,28,28,1)\n",
        "d_x = intermidiate_model.predict(x)\n",
        "\n",
        "# ground truth를 예측하는 z 학습\n",
        "loss_normal = model.fit(z, [x, d_x], epochs=500, verbose=0)"
      ],
      "metadata": {
        "colab": {
          "base_uri": "https://localhost:8080/"
        },
        "id": "geEO5Y4CUN1t",
        "outputId": "8eb004dd-6721-415d-ade3-2f74bc8de0e4"
      },
      "execution_count": null,
      "outputs": [
        {
          "output_type": "stream",
          "name": "stdout",
          "text": [
            "CPU times: user 23.3 s, sys: 644 ms, total: 23.9 s\n",
            "Wall time: 41.4 s\n"
          ]
        }
      ]
    },
    {
      "cell_type": "markdown",
      "source": [
        "100개의 EMNIST (비정상 이미지) 로 학습"
      ],
      "metadata": {
        "id": "1AiskbL3Udhr"
      }
    },
    {
      "cell_type": "code",
      "source": [
        "aimg_multi = images[:100].reshape(100,28,28)/ 127.5 - 1."
      ],
      "metadata": {
        "id": "OgCt_mrrUQbb"
      },
      "execution_count": null,
      "outputs": []
    },
    {
      "cell_type": "code",
      "source": [
        "%%time\n",
        "z = np.random.uniform(0, 1, size=(100, 100))\n",
        "intermidiate_model = feature_extractor(img_shape=(28,28,1))\n",
        "\n",
        "# ground truth\n",
        "x = aimg_multi.reshape(100,28,28,1)\n",
        "d_x = intermidiate_model.predict(x)\n",
        "\n",
        "# ground truth를 예측하는 z 학습\n",
        "loss_abnormal = model.fit(z, [x, d_x], epochs=500, verbose=0)"
      ],
      "metadata": {
        "colab": {
          "base_uri": "https://localhost:8080/"
        },
        "id": "WhPvC1KUUieD",
        "outputId": "f01bc263-95dc-4ace-8a3b-76bf770d4839"
      },
      "execution_count": null,
      "outputs": [
        {
          "output_type": "stream",
          "name": "stdout",
          "text": [
            "WARNING:tensorflow:5 out of the last 9 calls to <function Model.make_predict_function.<locals>.predict_function at 0x7f8b8c578b00> triggered tf.function retracing. Tracing is expensive and the excessive number of tracings could be due to (1) creating @tf.function repeatedly in a loop, (2) passing tensors with different shapes, (3) passing Python objects instead of tensors. For (1), please define your @tf.function outside of the loop. For (2), @tf.function has experimental_relax_shapes=True option that relaxes argument shapes that can avoid unnecessary retracing. For (3), please refer to https://www.tensorflow.org/guide/function#controlling_retracing and https://www.tensorflow.org/api_docs/python/tf/function for  more details.\n",
            "CPU times: user 23.4 s, sys: 823 ms, total: 24.2 s\n",
            "Wall time: 41.5 s\n"
          ]
        }
      ]
    },
    {
      "cell_type": "markdown",
      "source": [
        "plot 을 그려 정상 데이터와 비정상 데이터의 loss 값 시각화"
      ],
      "metadata": {
        "id": "CcKvidTjUv37"
      }
    },
    {
      "cell_type": "code",
      "source": [
        "plt.plot(loss_normal.history['loss'])\n",
        "plt.plot(loss_abnormal.history['loss'])\n",
        "plt.legend(['normal','abnormal'])\n",
        "plt.show()"
      ],
      "metadata": {
        "colab": {
          "base_uri": "https://localhost:8080/",
          "height": 265
        },
        "id": "-09PqCW8Ujo-",
        "outputId": "151f4c5a-805e-4a2a-cebf-1643fae8a6e2"
      },
      "execution_count": null,
      "outputs": [
        {
          "output_type": "display_data",
          "data": {
            "text/plain": [
              "<Figure size 432x288 with 1 Axes>"
            ],
            "image/png": "[encoded data removed]"
          },
          "metadata": {
            "needs_background": "light"
          }
        }
      ]
    },
    {
      "cell_type": "markdown",
      "source": [
        "비정상 데이터의 loss 값이 더 높은 것을 확인할 수 있음"
      ],
      "metadata": {
        "id": "jTG9SRLxU3S2"
      }
    },
    {
      "cell_type": "code",
      "source": [
        ""
      ],
      "metadata": {
        "id": "Gta6JhujU1bQ"
      },
      "execution_count": null,
      "outputs": []
    }
  ]
}